{
 "cells": [
  {
   "cell_type": "code",
   "execution_count": 1,
   "id": "9329a1d5-f8d9-41b9-a1d4-d1dfb32be401",
   "metadata": {},
   "outputs": [],
   "source": [
    "import os\n",
    "import re\n",
    "import ast\n",
    "import json\n",
    "import string\n",
    "import openai\n",
    "import psycopg2\n",
    "import collections\n",
    "import numpy as np\n",
    "import pandas as pd\n",
    "import pandas_dedupe\n",
    "from fuzzywuzzy import fuzz\n",
    "from fuzzywuzzy import process\n",
    "from neo4j import GraphDatabase\n",
    "from jsonpath_ng.ext import parse\n",
    "from nltk.stem import PorterStemmer\n",
    "from nltk.tokenize import word_tokenize"
   ]
  },
  {
   "cell_type": "code",
   "execution_count": 2,
   "id": "7d80848f-c471-435b-a353-2abbb0f36c8e",
   "metadata": {},
   "outputs": [],
   "source": [
    "ps = PorterStemmer()\n",
    "connection = psycopg2.connect(\n",
    "        dbname='nourish',\n",
    "        user='v1desai@ucsd.edu',\n",
    "        password='emfQGcx3',\n",
    "        host='awesome-hw.sdsc.edu',\n",
    "        port=5432\n",
    "    )\n",
    "uri = \"bolt://localhost:7687\"\n",
    "username = \"neo4j\"\n",
    "password = \"password\""
   ]
  },
  {
   "cell_type": "code",
   "execution_count": 3,
   "id": "9f26b590",
   "metadata": {},
   "outputs": [],
   "source": [
    "with open('ingredient_and_instructions.json') as file:\n",
    "    tasty_json_ingredients = json.load(file)\n",
    "ingredients_and_recipes_df = pd.DataFrame(tasty_json_ingredients)"
   ]
  },
  {
   "cell_type": "code",
   "execution_count": 4,
   "id": "caddb6b9-4ab8-48c6-80e4-773e887654ca",
   "metadata": {},
   "outputs": [
    {
     "data": {
      "text/html": [
       "<div>\n",
       "<style scoped>\n",
       "    .dataframe tbody tr th:only-of-type {\n",
       "        vertical-align: middle;\n",
       "    }\n",
       "\n",
       "    .dataframe tbody tr th {\n",
       "        vertical-align: top;\n",
       "    }\n",
       "\n",
       "    .dataframe thead th {\n",
       "        text-align: right;\n",
       "    }\n",
       "</style>\n",
       "<table border=\"1\" class=\"dataframe\">\n",
       "  <thead>\n",
       "    <tr style=\"text-align: right;\">\n",
       "      <th></th>\n",
       "      <th>slug</th>\n",
       "      <th>protein</th>\n",
       "      <th>fat</th>\n",
       "      <th>calories</th>\n",
       "      <th>sugar</th>\n",
       "      <th>carbohydrates</th>\n",
       "      <th>fiber</th>\n",
       "    </tr>\n",
       "  </thead>\n",
       "  <tbody>\n",
       "    <tr>\n",
       "      <th>0</th>\n",
       "      <td>homemade-cinnamon-rolls</td>\n",
       "      <td>7.0</td>\n",
       "      <td>21.0</td>\n",
       "      <td>479.0</td>\n",
       "      <td>24.0</td>\n",
       "      <td>63.0</td>\n",
       "      <td>1.0</td>\n",
       "    </tr>\n",
       "    <tr>\n",
       "      <th>1</th>\n",
       "      <td>whipped-coffee</td>\n",
       "      <td>0.0</td>\n",
       "      <td>0.0</td>\n",
       "      <td>69.0</td>\n",
       "      <td>18.0</td>\n",
       "      <td>18.0</td>\n",
       "      <td>0.0</td>\n",
       "    </tr>\n",
       "    <tr>\n",
       "      <th>2</th>\n",
       "      <td>fluffy-perfect-pancakes</td>\n",
       "      <td>36.0</td>\n",
       "      <td>50.0</td>\n",
       "      <td>1102.0</td>\n",
       "      <td>12.0</td>\n",
       "      <td>123.0</td>\n",
       "      <td>3.0</td>\n",
       "    </tr>\n",
       "    <tr>\n",
       "      <th>3</th>\n",
       "      <td>tasty-101-cinnamon-rolls</td>\n",
       "      <td>8.0</td>\n",
       "      <td>25.0</td>\n",
       "      <td>562.0</td>\n",
       "      <td>28.0</td>\n",
       "      <td>74.0</td>\n",
       "      <td>1.0</td>\n",
       "    </tr>\n",
       "    <tr>\n",
       "      <th>4</th>\n",
       "      <td>healthy-banana-pancakes</td>\n",
       "      <td>7.0</td>\n",
       "      <td>4.0</td>\n",
       "      <td>184.0</td>\n",
       "      <td>9.0</td>\n",
       "      <td>30.0</td>\n",
       "      <td>4.0</td>\n",
       "    </tr>\n",
       "  </tbody>\n",
       "</table>\n",
       "</div>"
      ],
      "text/plain": [
       "                       slug  protein   fat  calories  sugar  carbohydrates  \\\n",
       "0   homemade-cinnamon-rolls      7.0  21.0     479.0   24.0           63.0   \n",
       "1            whipped-coffee      0.0   0.0      69.0   18.0           18.0   \n",
       "2   fluffy-perfect-pancakes     36.0  50.0    1102.0   12.0          123.0   \n",
       "3  tasty-101-cinnamon-rolls      8.0  25.0     562.0   28.0           74.0   \n",
       "4   healthy-banana-pancakes      7.0   4.0     184.0    9.0           30.0   \n",
       "\n",
       "   fiber  \n",
       "0    1.0  \n",
       "1    0.0  \n",
       "2    3.0  \n",
       "3    1.0  \n",
       "4    4.0  "
      ]
     },
     "execution_count": 4,
     "metadata": {},
     "output_type": "execute_result"
    }
   ],
   "source": [
    "#load in tasty dishes (csv)\n",
    "df_tasty_dishes = pd.read_csv('dishes.csv',usecols=['slug', 'protein', 'fat', 'calories', 'sugar', 'carbohydrates', 'fiber']) \n",
    "df_tasty_dishes.head()"
   ]
  },
  {
   "cell_type": "code",
   "execution_count": 5,
   "id": "471488a8-d664-4004-bd1d-2be58dfab5d5",
   "metadata": {},
   "outputs": [],
   "source": [
    "#unstructured data\n",
    "jsonpath_expr = parse(\"$..['instructions']\")\n",
    "matches = [match.value for match in jsonpath_expr.find(tasty_json_ingredients)]\n",
    "\n",
    "text = []\n",
    "for i in range(len(matches)):\n",
    "    list_text = \" \".join(line['display_text'].strip() for line in matches[i])\n",
    "    text.append(list_text)"
   ]
  },
  {
   "cell_type": "code",
   "execution_count": 6,
   "id": "274efb9e-a641-42fd-9cf0-2dc44b69423e",
   "metadata": {},
   "outputs": [],
   "source": [
    "#extract all products\n",
    "expr = parse(\"$\")\n",
    "list_products = [match.value.keys() for match in expr.find(tasty_json_ingredients)]"
   ]
  },
  {
   "cell_type": "code",
   "execution_count": 7,
   "id": "85710645",
   "metadata": {},
   "outputs": [],
   "source": [
    "jsonpath_expr = parse(\"$..['ingredient_sections']\")\n",
    "matches = [match.value for match in jsonpath_expr.find(tasty_json_ingredients)]"
   ]
  },
  {
   "cell_type": "code",
   "execution_count": 8,
   "id": "57d02444-7d42-4eea-b2be-d78f39cc25bb",
   "metadata": {},
   "outputs": [],
   "source": [
    "#extracting list of ingredients product by product\n",
    "ingredients = []\n",
    "ingredient_per_prod = []\n",
    "for products in matches:\n",
    "    for product in products:\n",
    "        ing_per_prod = product['ingredients']\n",
    "        for ing in ing_per_prod:\n",
    "            ingredient_per_prod.append(ing['name'])\n",
    "    ingredients.append(ingredient_per_prod)\n",
    "    ingredient_per_prod = []"
   ]
  },
  {
   "cell_type": "code",
   "execution_count": 9,
   "id": "20f9a6c2-055b-4326-b4a0-b23d0066dae1",
   "metadata": {},
   "outputs": [],
   "source": [
    "# extract all metric_unit for each ingredient per product\n",
    "metric = []\n",
    "metric_per_prod = []\n",
    "for products in matches:\n",
    "    for product in products:\n",
    "        met_per_prod = product['ingredients']\n",
    "        for met in met_per_prod:\n",
    "            if met['metric_unit'] is not None:\n",
    "                metric_per_prod.append((met['metric_unit']['quantity'],met['metric_unit']['display']))\n",
    "            else:\n",
    "                metric_per_prod.append((None,None))\n",
    "    metric.append(metric_per_prod)\n",
    "    metric_per_prod = []"
   ]
  },
  {
   "cell_type": "code",
   "execution_count": 10,
   "id": "3f035d0f-0717-4d1c-bdc2-b73ed9f6cdd4",
   "metadata": {},
   "outputs": [],
   "source": [
    "col_products = pd.Series(list_products[0])\n",
    "col_ingredients = pd.Series(ingredients)\n",
    "col_metric_unit = pd.Series(metric)\n",
    "col_instructions = pd.Series(text)"
   ]
  },
  {
   "cell_type": "code",
   "execution_count": 11,
   "id": "2e2f5fdd-3c6a-4600-ae46-212217de2bef",
   "metadata": {},
   "outputs": [
    {
     "data": {
      "text/html": [
       "<div>\n",
       "<style scoped>\n",
       "    .dataframe tbody tr th:only-of-type {\n",
       "        vertical-align: middle;\n",
       "    }\n",
       "\n",
       "    .dataframe tbody tr th {\n",
       "        vertical-align: top;\n",
       "    }\n",
       "\n",
       "    .dataframe thead th {\n",
       "        text-align: right;\n",
       "    }\n",
       "</style>\n",
       "<table border=\"1\" class=\"dataframe\">\n",
       "  <thead>\n",
       "    <tr style=\"text-align: right;\">\n",
       "      <th></th>\n",
       "      <th>products</th>\n",
       "      <th>ingredients</th>\n",
       "      <th>metric_unit</th>\n",
       "      <th>instructions</th>\n",
       "    </tr>\n",
       "  </thead>\n",
       "  <tbody>\n",
       "    <tr>\n",
       "      <th>0</th>\n",
       "      <td>homemade-cinnamon-rolls</td>\n",
       "      <td>[unsalted butter, whole milk, granulated sugar...</td>\n",
       "      <td>[(115, g), (480, mL), (100, g), (None, None), ...</td>\n",
       "      <td>Generously butter two disposable foil pie/cake...</td>\n",
       "    </tr>\n",
       "    <tr>\n",
       "      <th>1</th>\n",
       "      <td>whipped-coffee</td>\n",
       "      <td>[hot water, sugar, instant coffee powder, milk...</td>\n",
       "      <td>[(28, g), (24, g), (12, g), (None, None), (Non...</td>\n",
       "      <td>Add the hot water, sugar, and instant coffee t...</td>\n",
       "    </tr>\n",
       "    <tr>\n",
       "      <th>2</th>\n",
       "      <td>fluffy-perfect-pancakes</td>\n",
       "      <td>[flour, baking powder, milk, butter, egg yolks...</td>\n",
       "      <td>[(500, g), (None, None), (960, mL), (170, g), ...</td>\n",
       "      <td>Whisk together the flour and baking powder in ...</td>\n",
       "    </tr>\n",
       "    <tr>\n",
       "      <th>3</th>\n",
       "      <td>tasty-101-cinnamon-rolls</td>\n",
       "      <td>[whole milk, sugar, unsalted butter, active dr...</td>\n",
       "      <td>[(480, mL), (100, g), (None, None), (None, Non...</td>\n",
       "      <td>Make the dough: In a large bowl, whisk togethe...</td>\n",
       "    </tr>\n",
       "    <tr>\n",
       "      <th>4</th>\n",
       "      <td>healthy-banana-pancakes</td>\n",
       "      <td>[ripe bananas, eggs, vanilla extract, quick-co...</td>\n",
       "      <td>[(None, None), (None, None), (None, None), (70...</td>\n",
       "      <td>Mash bananas in a large bowl until smooth. Mix...</td>\n",
       "    </tr>\n",
       "  </tbody>\n",
       "</table>\n",
       "</div>"
      ],
      "text/plain": [
       "                   products  \\\n",
       "0   homemade-cinnamon-rolls   \n",
       "1            whipped-coffee   \n",
       "2   fluffy-perfect-pancakes   \n",
       "3  tasty-101-cinnamon-rolls   \n",
       "4   healthy-banana-pancakes   \n",
       "\n",
       "                                         ingredients  \\\n",
       "0  [unsalted butter, whole milk, granulated sugar...   \n",
       "1  [hot water, sugar, instant coffee powder, milk...   \n",
       "2  [flour, baking powder, milk, butter, egg yolks...   \n",
       "3  [whole milk, sugar, unsalted butter, active dr...   \n",
       "4  [ripe bananas, eggs, vanilla extract, quick-co...   \n",
       "\n",
       "                                         metric_unit  \\\n",
       "0  [(115, g), (480, mL), (100, g), (None, None), ...   \n",
       "1  [(28, g), (24, g), (12, g), (None, None), (Non...   \n",
       "2  [(500, g), (None, None), (960, mL), (170, g), ...   \n",
       "3  [(480, mL), (100, g), (None, None), (None, Non...   \n",
       "4  [(None, None), (None, None), (None, None), (70...   \n",
       "\n",
       "                                        instructions  \n",
       "0  Generously butter two disposable foil pie/cake...  \n",
       "1  Add the hot water, sugar, and instant coffee t...  \n",
       "2  Whisk together the flour and baking powder in ...  \n",
       "3  Make the dough: In a large bowl, whisk togethe...  \n",
       "4  Mash bananas in a large bowl until smooth. Mix...  "
      ]
     },
     "execution_count": 11,
     "metadata": {},
     "output_type": "execute_result"
    }
   ],
   "source": [
    "df = pd.DataFrame()\n",
    "df['products'] = col_products\n",
    "df['ingredients'] = col_ingredients\n",
    "df['metric_unit'] = col_metric_unit\n",
    "df['instructions'] = col_instructions\n",
    "df.head()"
   ]
  },
  {
   "cell_type": "code",
   "execution_count": 13,
   "id": "2c1abaa7-2f24-4868-9d50-d5261f90b2a7",
   "metadata": {},
   "outputs": [],
   "source": [
    "df_products = df.merge(df_tasty_dishes,how='inner',left_on='products',right_on='slug')\n",
    "df_products.drop('slug',axis=1,inplace=True)"
   ]
  },
  {
   "cell_type": "code",
   "execution_count": 15,
   "id": "cbfe841a-7830-4540-ab4c-e4ad5991100a",
   "metadata": {},
   "outputs": [],
   "source": [
    "df_products.dropna(inplace = True)\n",
    "df_products.reset_index(inplace = True, drop = False)"
   ]
  },
  {
   "cell_type": "code",
   "execution_count": 17,
   "id": "da64be28-4344-4cd6-854e-7e7f05b01c12",
   "metadata": {
    "scrolled": true
   },
   "outputs": [
    {
     "name": "stdout",
     "output_type": "stream",
     "text": [
      "Importing data ...\n"
     ]
    },
    {
     "name": "stderr",
     "output_type": "stream",
     "text": [
      "C:\\Users\\varun\\AppData\\Local\\Temp\\ipykernel_22392\\3765877714.py:1: FutureWarning: DataFrame.applymap has been deprecated. Use DataFrame.map instead.\n",
      "  df_final = pandas_dedupe.dedupe_dataframe(df_products,['products','ingredients'])\n"
     ]
    },
    {
     "name": "stdout",
     "output_type": "stream",
     "text": [
      "Reading from dedupe_dataframe_learned_settings\n",
      "Clustering...\n",
      "# duplicate sets 4205\n"
     ]
    }
   ],
   "source": [
    "df_final = pandas_dedupe.dedupe_dataframe(df_products,['products','ingredients'])"
   ]
  },
  {
   "cell_type": "code",
   "execution_count": 32,
   "id": "0cf241b6-1168-44e4-9c54-a7a0e215518c",
   "metadata": {},
   "outputs": [],
   "source": [
    "df_final['ingredients'] = df_final.apply(lambda row : [ingredient.strip()[1:-1] for ingredient in row['ingredients'][1:-1].split(', ')], axis =1)"
   ]
  },
  {
   "cell_type": "code",
   "execution_count": 33,
   "id": "96a1893f-342d-465b-8ef0-fe97bd86a001",
   "metadata": {},
   "outputs": [],
   "source": [
    "def extract_keywords(products):\n",
    "    keywords = [ps.stem(prod) for prod in products.split('-')]\n",
    "    counter = collections.Counter(keywords)\n",
    "    return [word for word,count in counter.most_common()[:2]]\n",
    "\n",
    "def add_keywords(products_df):\n",
    "    cluster_groups = df_final.groupby('cluster id')['products'].agg(list)\n",
    "    cluster_keywords_df = pd.DataFrame(index=cluster_groups.index)\n",
    "    cluster_keywords_df['cluster_keywords'] = cluster_groups.apply(lambda products_list: ', '.join(extract_keywords('-'.join(products_list))))\n",
    "    \n",
    "    # Merge the cluster_keywords back to the original dataframe\n",
    "    df= pd.merge(df_final, cluster_keywords_df, on='cluster id')\n",
    "    \n",
    "    # Display the resulting dataframe\n",
    "    df = df[['products','ingredients','metric_unit','instructions','calories','protein','fat','sugar','carbohydrates','fiber','cluster id','cluster_keywords']]\n",
    "    return df"
   ]
  },
  {
   "cell_type": "code",
   "execution_count": 34,
   "id": "b9860154-0e5c-4d53-98c3-77ef47733a7f",
   "metadata": {},
   "outputs": [],
   "source": [
    "df = add_keywords(df_final)"
   ]
  },
  {
   "cell_type": "code",
   "execution_count": 35,
   "id": "781d7c7d-0737-4639-8b32-0088d3d41e92",
   "metadata": {},
   "outputs": [],
   "source": [
    "def clean_text(text):\n",
    "    text = re.sub('\\W+',' ', str(text))\n",
    "    return text.lower()\n",
    "    \n",
    "def get_experimental_table():\n",
    "    cur = connection.cursor()\n",
    "    exp_query = \"\"\"SELECT fdc_id, description FROM usda_2022_food_branded_experimental\"\"\"\n",
    "    cur.execute(exp_query)\n",
    "    records = cur.fetchall()\n",
    "    columns = [desc[0] for desc in cur.description]\n",
    "    cur.close()\n",
    "    \n",
    "    df_experimental = pd.DataFrame(records, columns = columns)\n",
    "    df_experimental.drop_duplicates(subset = 'description', keep = 'first', inplace = True)\n",
    "    df_experimental.reset_index(drop = True, inplace = True)\n",
    "    df_experimental['description'] = df_experimental.apply(lambda row :clean_text(row['description']), axis = 1)\n",
    "    return df_experimental"
   ]
  },
  {
   "cell_type": "code",
   "execution_count": 36,
   "id": "d214247b-2e7e-41ce-a92c-be8907da06ab",
   "metadata": {},
   "outputs": [],
   "source": [
    "df_experimental = get_experimental_table()"
   ]
  },
  {
   "cell_type": "code",
   "execution_count": 37,
   "id": "68b06089-4525-44fd-b375-924acaa999c1",
   "metadata": {},
   "outputs": [],
   "source": [
    "def add_usda_rows(df, df_experimental, cluster_id):\n",
    "    clus_key = df.groupby('cluster id').get_group(cluster_id)['cluster_keywords']\n",
    "    matches = process.extract(clus_key.values[0], df_experimental['description'],scorer=fuzz.token_sort_ratio)\n",
    "    threshold = 95\n",
    "    filtered_matches = [match for match in matches if match[1] >= threshold]\n",
    "    fdc_to_match = []\n",
    "    # Extract rows based on the filtered matches\n",
    "    for match in filtered_matches:\n",
    "        index = match[2]\n",
    "        matched_row = df_experimental.iloc[index]\n",
    "        fdc_to_match.append(matched_row.fdc_id)\n",
    "    if len(fdc_to_match)>0:\n",
    "        fdc_to_match = tuple(fdc_to_match)\n",
    "        sql_query = f\"\"\"SELECT t1.fdc_id, t1.description, t2.amount, t3.name, t3.unit_name, t4.ingredients \\\n",
    "        FROM usda_2022_food_branded_experimental t1 \\\n",
    "        LEFT JOIN usda_2022_branded_food_nutrients t2 ON t1.fdc_id = t2.fdc_id \\\n",
    "        LEFT JOIN usda_2022_branded_food_product t4 ON t1.fdc_id = t4.fdc_id \\\n",
    "        LEFT JOIN usda_2022_nutrient_master t3 ON t2.nutrient_id = t3.id \\\n",
    "        WHERE t1.fdc_id IN {fdc_to_match}\"\"\"\n",
    "        \n",
    "        cur = connection.cursor()\n",
    "        cur.execute(sql_query)\n",
    "        records = cur.fetchall()\n",
    "        columns = [desc[0] for desc in cur.description]\n",
    "        cur.close()\n",
    "        records_df = pd.DataFrame(records, columns = columns)\n",
    "        for fdc in fdc_to_match:\n",
    "            new_df = records_df.groupby('fdc_id').get_group(fdc)\n",
    "            new_row_append = pd.Series([new_df['description'].values[0].lower(), \\\n",
    "                                re.sub(\"[\\(\\[].*?[\\)\\]]\", \"\",new_df.ingredients.values[0].lower()), \\\n",
    "                                None, \\\n",
    "                                None, \\\n",
    "                               float(new_df[new_df['name'] == 'Energy']['amount'].values[0]), \\\n",
    "                               float(new_df[new_df['name'] == 'Protein']['amount'].values[0]), \\\n",
    "                               float(new_df[new_df['name'] == 'Total lipid (fat)']['amount'].values[0]), \\\n",
    "                               float(new_df[new_df['name'] == 'Sugars, Total']['amount'].values[0]), \\\n",
    "                               float(new_df[new_df['name'] == 'Carbohydrate, by difference']['amount'].values[0]), \\\n",
    "                               float(new_df[new_df['name'] == 'Fiber, total dietary']['amount'].values[0]), \\\n",
    "                               cluster_id, \\\n",
    "                               clus_key[0]], index=df.columns)\n",
    "            df = pd.concat([df, pd.DataFrame([new_row_append], columns=df.columns)], ignore_index=True)\n",
    "        return df\n",
    "    else:\n",
    "        print(\"No match found, records not inserted\")\n",
    "        return df"
   ]
  },
  {
   "cell_type": "code",
   "execution_count": 38,
   "id": "09434d29-1054-4883-9e78-0c9c8a937f7c",
   "metadata": {},
   "outputs": [
    {
     "name": "stdout",
     "output_type": "stream",
     "text": [
      "No match found, records not inserted\n"
     ]
    }
   ],
   "source": [
    "df = add_usda_rows(df, df_experimental, 4200)"
   ]
  },
  {
   "cell_type": "code",
   "execution_count": 45,
   "id": "6144835b-e814-4eac-9072-60c7b0b542fb",
   "metadata": {},
   "outputs": [],
   "source": [
    "def create_graph(tx, cluster_id, cluster_keywords, product_name, ingredients, instructions, protein, fat, calories, sugar, carbohydrates, fiber):\n",
    "    # Create Product node\n",
    "    tx.run(\"\"\"\n",
    "        MERGE (c:Cluster {name: $cluster_id, keywords: $cluster_keywords})\n",
    "    \"\"\", cluster_id=cluster_id, cluster_keywords=cluster_keywords)\n",
    "\n",
    "    tx.run(\"\"\"\n",
    "        MERGE (p:Product {name: $product_name, protein: $protein, fat: $fat,\n",
    "                          calories: $calories, sugar: $sugar, carbohydrates: $carbohydrates, fiber: $fiber})\n",
    "    \"\"\", product_name=product_name, protein=protein, fat=fat, calories=calories, sugar=sugar, carbohydrates=carbohydrates, fiber=fiber)\n",
    "    \n",
    "    # Create HAS_PRODUCTS relationships between cluster and Product\n",
    "    if product_name:\n",
    "        tx.run(\"\"\"MATCH (c:Cluster {name: $cluster_id})\n",
    "                  MATCH (p:Product {name: $product_name})\n",
    "                  MERGE (c)-[:HAS_PRODUCTS]->(p)\n",
    "               \"\"\", cluster_id=cluster_id, product_name=product_name)\n",
    "            \n",
    "    # Create Ingredient nodes\n",
    "    for ingredient in ingredients:\n",
    "        if ingredient:\n",
    "            tx.run(\"\"\"\n",
    "                MERGE (i:Ingredient {name: $ingredient})\n",
    "            \"\"\", ingredient=ingredient)\n",
    "\n",
    "    # Create CONTAINS relationships between Product and Ingredient\n",
    "    for ingredient in ingredients:\n",
    "        if ingredient:\n",
    "            tx.run(\"\"\"\n",
    "                MATCH (p:Product {name: $product_name})\n",
    "                MATCH (i:Ingredient {name: $ingredient})\n",
    "                MERGE (p)-[:CONTAINS]->(i)\n",
    "            \"\"\", product_name=product_name, ingredient=ingredient) \n",
    "\n",
    "    # Create Instruction nodes\n",
    "    if instructions:\n",
    "        tx.run(\"\"\"\n",
    "            MERGE (j:Instructions {instructions: $instructions})\n",
    "        \"\"\", instructions=instructions)\n",
    "    #Create HAS_INSTRUCTIONS relationships between Product and Ingredient\n",
    "        tx.run(\"\"\"\n",
    "                MATCH (p:Product {name: $product_name})\n",
    "                MATCH (j:Instructions {instructions: $instructions})\n",
    "                MERGE (p)-[:HAS_INSTRUCTIONS]->(j)\n",
    "            \"\"\", product_name=product_name, instructions=instructions)\n",
    "        \n",
    "# Connect to the database and run the transaction\n",
    "with GraphDatabase.driver(uri, auth=(username, password)) as driver:\n",
    "    with driver.session() as session:\n",
    "        for index, row in df.iterrows():\n",
    "            session.execute_write(create_graph,\n",
    "                                  row['cluster id'],\n",
    "                                  row['cluster_keywords'],\n",
    "                                  row['products'],\n",
    "                                  row['ingredients'],\n",
    "                                  row['instructions'],\n",
    "                                  row['protein'],\n",
    "                                  row['fat'],\n",
    "                                  row['calories'],\n",
    "                                  row['sugar'],\n",
    "                                  row['carbohydrates'],\n",
    "                                  row['fiber'])"
   ]
  },
  {
   "cell_type": "code",
   "execution_count": null,
   "id": "91d89b74-68d2-4718-93de-81c76667febc",
   "metadata": {},
   "outputs": [],
   "source": []
  }
 ],
 "metadata": {
  "kernelspec": {
   "display_name": "Python 3 (ipykernel)",
   "language": "python",
   "name": "python3"
  },
  "language_info": {
   "codemirror_mode": {
    "name": "ipython",
    "version": 3
   },
   "file_extension": ".py",
   "mimetype": "text/x-python",
   "name": "python",
   "nbconvert_exporter": "python",
   "pygments_lexer": "ipython3",
   "version": "3.10.8"
  }
 },
 "nbformat": 4,
 "nbformat_minor": 5
}
