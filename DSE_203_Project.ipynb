{
 "cells": [
  {
   "cell_type": "markdown",
   "id": "ff87e81e-cbed-49d2-a0d4-0ae4e273e3d3",
   "metadata": {},
   "source": [
    "## Tasty Recipes Knowledge Graph\n",
    "DSE 203 Project - Team Christopher Vanhook, Vaaruni Desai, Zufeshan Imran"
   ]
  },
  {
   "cell_type": "markdown",
   "id": "665fa5bc-d42f-42ec-82be-ad7b85561760",
   "metadata": {
    "jp-MarkdownHeadingCollapsed": true
   },
   "source": [
    "### I. Data Loading"
   ]
  },
  {
   "cell_type": "markdown",
   "id": "2a670adc-a212-48ac-bee2-b7ee105ee550",
   "metadata": {},
   "source": [
    "#### Import all the required libraries"
   ]
  },
  {
   "cell_type": "code",
   "execution_count": 1,
   "id": "9329a1d5-f8d9-41b9-a1d4-d1dfb32be401",
   "metadata": {},
   "outputs": [],
   "source": [
    "import os\n",
    "import re\n",
    "import json\n",
    "import openai\n",
    "import psycopg2\n",
    "import collections\n",
    "import numpy as np\n",
    "import pandas as pd\n",
    "import pandas_dedupe\n",
    "from fuzzywuzzy import fuzz\n",
    "from nltk.util import ngrams\n",
    "from fuzzywuzzy import process\n",
    "from neo4j import GraphDatabase\n",
    "from jsonpath_ng.ext import parse\n",
    "from nltk.stem import PorterStemmer"
   ]
  },
  {
   "cell_type": "markdown",
   "id": "522e2f14-3fe3-4101-af8d-f8a997d21c94",
   "metadata": {},
   "source": [
    "#### Driver connection and required settings"
   ]
  },
  {
   "cell_type": "code",
   "execution_count": 2,
   "id": "7d80848f-c471-435b-a353-2abbb0f36c8e",
   "metadata": {},
   "outputs": [],
   "source": [
    "# get passwords from config.json\n",
    "with open('config.json') as f:\n",
    "    data = json.load(f)\n",
    "\n",
    "# portstemmer to get the stem of keywords\n",
    "ps = PorterStemmer()\n",
    "\n",
    "# establishing connection to nourish_db \n",
    "connection = psycopg2.connect(\n",
    "        dbname='nourish',\n",
    "        user='v1desai@ucsd.edu',\n",
    "        password=data['passwords']['postgres'],\n",
    "        host='awesome-hw.sdsc.edu',\n",
    "        port=5432\n",
    "    )\n",
    "\n",
    "# requirements to connect to neo4j\n",
    "uri = \"bolt://localhost:7687\"\n",
    "username = \"neo4j\"\n",
    "password = data['passwords']['neo4j']\n",
    "\n",
    "# function to remove non-alphabetic data\n",
    "def clean_text(text):\n",
    "    text = re.sub('\\W+',' ', str(text))\n",
    "    return text.lower()\n",
    "\n",
    "# funtion to get the required data from nourish_db for comparison in future\n",
    "def get_experimental_table():\n",
    "    cur = connection.cursor()\n",
    "    exp_query = \"\"\"SELECT fdc_id, description FROM usda_2022_food_branded_experimental\"\"\"\n",
    "    cur.execute(exp_query)\n",
    "    records = cur.fetchall()\n",
    "    columns = [desc[0] for desc in cur.description]\n",
    "    cur.close()\n",
    "    \n",
    "    df_experimental = pd.DataFrame(records, columns = columns)\n",
    "    df_experimental.drop_duplicates(subset = 'description', keep = 'first', inplace = True)\n",
    "    df_experimental.reset_index(drop = True, inplace = True)\n",
    "    df_experimental['description'] = df_experimental.apply(lambda row :clean_text(row['description']), axis = 1)\n",
    "    return df_experimental\n",
    "\n",
    "# get the table and store it in a variable for future use\n",
    "df_experimental = get_experimental_table()"
   ]
  },
  {
   "cell_type": "markdown",
   "id": "f412b92d-028b-4b80-8ae8-bcb90f690b68",
   "metadata": {},
   "source": [
    "#### Loading TASTY json and csv data"
   ]
  },
  {
   "cell_type": "code",
   "execution_count": 3,
   "id": "9f26b590",
   "metadata": {},
   "outputs": [],
   "source": [
    "# loading the json data\n",
    "\n",
    "with open('ingredient_and_instructions.json') as file:\n",
    "    tasty_json_ingredients = json.load(file)"
   ]
  },
  {
   "cell_type": "code",
   "execution_count": 4,
   "id": "caddb6b9-4ab8-48c6-80e4-773e887654ca",
   "metadata": {},
   "outputs": [
    {
     "data": {
      "text/html": [
       "<div>\n",
       "<style scoped>\n",
       "    .dataframe tbody tr th:only-of-type {\n",
       "        vertical-align: middle;\n",
       "    }\n",
       "\n",
       "    .dataframe tbody tr th {\n",
       "        vertical-align: top;\n",
       "    }\n",
       "\n",
       "    .dataframe thead th {\n",
       "        text-align: right;\n",
       "    }\n",
       "</style>\n",
       "<table border=\"1\" class=\"dataframe\">\n",
       "  <thead>\n",
       "    <tr style=\"text-align: right;\">\n",
       "      <th></th>\n",
       "      <th>slug</th>\n",
       "      <th>protein</th>\n",
       "      <th>fat</th>\n",
       "      <th>calories</th>\n",
       "      <th>sugar</th>\n",
       "      <th>carbohydrates</th>\n",
       "      <th>fiber</th>\n",
       "    </tr>\n",
       "  </thead>\n",
       "  <tbody>\n",
       "    <tr>\n",
       "      <th>0</th>\n",
       "      <td>homemade-cinnamon-rolls</td>\n",
       "      <td>7.0</td>\n",
       "      <td>21.0</td>\n",
       "      <td>479.0</td>\n",
       "      <td>24.0</td>\n",
       "      <td>63.0</td>\n",
       "      <td>1.0</td>\n",
       "    </tr>\n",
       "    <tr>\n",
       "      <th>1</th>\n",
       "      <td>whipped-coffee</td>\n",
       "      <td>0.0</td>\n",
       "      <td>0.0</td>\n",
       "      <td>69.0</td>\n",
       "      <td>18.0</td>\n",
       "      <td>18.0</td>\n",
       "      <td>0.0</td>\n",
       "    </tr>\n",
       "    <tr>\n",
       "      <th>2</th>\n",
       "      <td>fluffy-perfect-pancakes</td>\n",
       "      <td>36.0</td>\n",
       "      <td>50.0</td>\n",
       "      <td>1102.0</td>\n",
       "      <td>12.0</td>\n",
       "      <td>123.0</td>\n",
       "      <td>3.0</td>\n",
       "    </tr>\n",
       "    <tr>\n",
       "      <th>3</th>\n",
       "      <td>tasty-101-cinnamon-rolls</td>\n",
       "      <td>8.0</td>\n",
       "      <td>25.0</td>\n",
       "      <td>562.0</td>\n",
       "      <td>28.0</td>\n",
       "      <td>74.0</td>\n",
       "      <td>1.0</td>\n",
       "    </tr>\n",
       "    <tr>\n",
       "      <th>4</th>\n",
       "      <td>healthy-banana-pancakes</td>\n",
       "      <td>7.0</td>\n",
       "      <td>4.0</td>\n",
       "      <td>184.0</td>\n",
       "      <td>9.0</td>\n",
       "      <td>30.0</td>\n",
       "      <td>4.0</td>\n",
       "    </tr>\n",
       "    <tr>\n",
       "      <th>5</th>\n",
       "      <td>tasty-101-buttermilk-pancakes</td>\n",
       "      <td>7.0</td>\n",
       "      <td>15.0</td>\n",
       "      <td>303.0</td>\n",
       "      <td>6.0</td>\n",
       "      <td>33.0</td>\n",
       "      <td>0.0</td>\n",
       "    </tr>\n",
       "    <tr>\n",
       "      <th>6</th>\n",
       "      <td>buttermilk-pancakes</td>\n",
       "      <td>15.0</td>\n",
       "      <td>13.0</td>\n",
       "      <td>449.0</td>\n",
       "      <td>10.0</td>\n",
       "      <td>64.0</td>\n",
       "      <td>1.0</td>\n",
       "    </tr>\n",
       "    <tr>\n",
       "      <th>7</th>\n",
       "      <td>3-ingredient-banana-oat-smoothie</td>\n",
       "      <td>18.0</td>\n",
       "      <td>9.0</td>\n",
       "      <td>528.0</td>\n",
       "      <td>31.0</td>\n",
       "      <td>96.0</td>\n",
       "      <td>11.0</td>\n",
       "    </tr>\n",
       "    <tr>\n",
       "      <th>8</th>\n",
       "      <td>the-fluffiest-vegan-pancakes</td>\n",
       "      <td>3.0</td>\n",
       "      <td>1.0</td>\n",
       "      <td>156.0</td>\n",
       "      <td>4.0</td>\n",
       "      <td>32.0</td>\n",
       "      <td>1.0</td>\n",
       "    </tr>\n",
       "    <tr>\n",
       "      <th>9</th>\n",
       "      <td>peanut-butter-energy-bites</td>\n",
       "      <td>5.0</td>\n",
       "      <td>11.0</td>\n",
       "      <td>169.0</td>\n",
       "      <td>3.0</td>\n",
       "      <td>13.0</td>\n",
       "      <td>2.0</td>\n",
       "    </tr>\n",
       "  </tbody>\n",
       "</table>\n",
       "</div>"
      ],
      "text/plain": [
       "                               slug  protein   fat  calories  sugar  \\\n",
       "0           homemade-cinnamon-rolls      7.0  21.0     479.0   24.0   \n",
       "1                    whipped-coffee      0.0   0.0      69.0   18.0   \n",
       "2           fluffy-perfect-pancakes     36.0  50.0    1102.0   12.0   \n",
       "3          tasty-101-cinnamon-rolls      8.0  25.0     562.0   28.0   \n",
       "4           healthy-banana-pancakes      7.0   4.0     184.0    9.0   \n",
       "5     tasty-101-buttermilk-pancakes      7.0  15.0     303.0    6.0   \n",
       "6               buttermilk-pancakes     15.0  13.0     449.0   10.0   \n",
       "7  3-ingredient-banana-oat-smoothie     18.0   9.0     528.0   31.0   \n",
       "8      the-fluffiest-vegan-pancakes      3.0   1.0     156.0    4.0   \n",
       "9        peanut-butter-energy-bites      5.0  11.0     169.0    3.0   \n",
       "\n",
       "   carbohydrates  fiber  \n",
       "0           63.0    1.0  \n",
       "1           18.0    0.0  \n",
       "2          123.0    3.0  \n",
       "3           74.0    1.0  \n",
       "4           30.0    4.0  \n",
       "5           33.0    0.0  \n",
       "6           64.0    1.0  \n",
       "7           96.0   11.0  \n",
       "8           32.0    1.0  \n",
       "9           13.0    2.0  "
      ]
     },
     "execution_count": 4,
     "metadata": {},
     "output_type": "execute_result"
    }
   ],
   "source": [
    "# load in the required fields from csv into a dataframe\n",
    "\n",
    "df_tasty_dishes = pd.read_csv('dishes.csv',usecols=['slug', 'protein', 'fat', 'calories', 'sugar', 'carbohydrates', 'fiber']) \n",
    "df_tasty_dishes.head(10)"
   ]
  },
  {
   "cell_type": "markdown",
   "id": "2ce137c8-0dfa-4baa-b62a-1a6a9860f7f2",
   "metadata": {
    "jp-MarkdownHeadingCollapsed": true
   },
   "source": [
    "### II. Data transformation"
   ]
  },
  {
   "cell_type": "markdown",
   "id": "b527e407-5e6a-4bc9-bda5-e701b3bb4cc9",
   "metadata": {},
   "source": [
    "#### Parsing the unstructured data using jsonpath_ng library"
   ]
  },
  {
   "cell_type": "code",
   "execution_count": 5,
   "id": "471488a8-d664-4004-bd1d-2be58dfab5d5",
   "metadata": {},
   "outputs": [],
   "source": [
    "# creating unstructured instructions text by parsing instructions from json\n",
    "\n",
    "jsonpath_expr = parse(\"$..['instructions']\")\n",
    "matches = [match.value for match in jsonpath_expr.find(tasty_json_ingredients)]\n",
    "\n",
    "text = []\n",
    "for i in range(len(matches)):\n",
    "    list_text = \" \".join(line['display_text'].strip() for line in matches[i])\n",
    "    text.append(list_text)"
   ]
  },
  {
   "cell_type": "markdown",
   "id": "406cb48e-59ba-4aa9-bb2d-8da8de0e7565",
   "metadata": {},
   "source": [
    "#### Parse the products data, ingredients data using jsonpath_ng library"
   ]
  },
  {
   "cell_type": "code",
   "execution_count": 6,
   "id": "274efb9e-a641-42fd-9cf0-2dc44b69423e",
   "metadata": {},
   "outputs": [],
   "source": [
    "# extract all products\n",
    "\n",
    "expr = parse(\"$\")\n",
    "list_products = [match.value.keys() for match in expr.find(tasty_json_ingredients)]"
   ]
  },
  {
   "cell_type": "code",
   "execution_count": 7,
   "id": "d682f60e-1ccb-4dbc-ba4b-4aeea2ed82fc",
   "metadata": {},
   "outputs": [],
   "source": [
    "# extract all ingredients from ingredient sections\n",
    "\n",
    "jsonpath_expr = parse(\"$..['ingredient_sections']\")\n",
    "matches = [match.value for match in jsonpath_expr.find(tasty_json_ingredients)]"
   ]
  },
  {
   "cell_type": "markdown",
   "id": "1475e07c-7156-48a4-9799-6cf009154239",
   "metadata": {
    "jp-MarkdownHeadingCollapsed": true
   },
   "source": [
    "### III. Data Extraction"
   ]
  },
  {
   "cell_type": "markdown",
   "id": "4479d9b5-ff03-4144-a2f8-50306dddc497",
   "metadata": {},
   "source": [
    "#### Extracting list of ingredients per product"
   ]
  },
  {
   "cell_type": "code",
   "execution_count": 8,
   "id": "57d02444-7d42-4eea-b2be-d78f39cc25bb",
   "metadata": {},
   "outputs": [],
   "source": [
    "# extracting list of ingredients product by product\n",
    "\n",
    "ingredients = []\n",
    "ingredient_per_prod = []\n",
    "for products in matches:\n",
    "    for product in products:\n",
    "        ing_per_prod = product['ingredients']\n",
    "        for ing in ing_per_prod:\n",
    "            ingredient_per_prod.append(ing['name'])\n",
    "    ingredients.append(ingredient_per_prod)\n",
    "    ingredient_per_prod = []"
   ]
  },
  {
   "cell_type": "markdown",
   "id": "188ddc32-2c1a-4501-9ca8-d464313bde8a",
   "metadata": {},
   "source": [
    "#### Extracting list of metric unit for each ingredient per product"
   ]
  },
  {
   "cell_type": "code",
   "execution_count": 9,
   "id": "20f9a6c2-055b-4326-b4a0-b23d0066dae1",
   "metadata": {},
   "outputs": [],
   "source": [
    "# extract all metric_unit for each ingredient per product\n",
    "\n",
    "metric = []\n",
    "metric_per_prod = []\n",
    "for products in matches:\n",
    "    for product in products:\n",
    "        met_per_prod = product['ingredients']\n",
    "        for met in met_per_prod:\n",
    "            if met['metric_unit'] is not None:\n",
    "                metric_per_prod.append((met['metric_unit']['quantity'],met['metric_unit']['display']))\n",
    "            else:\n",
    "                metric_per_prod.append((None,None))\n",
    "    metric.append(metric_per_prod)\n",
    "    metric_per_prod = []"
   ]
  },
  {
   "cell_type": "markdown",
   "id": "1c43d0e8-6eba-415c-ac78-cfdb64607f5f",
   "metadata": {
    "jp-MarkdownHeadingCollapsed": true
   },
   "source": [
    "### IV. Integration into dataframe"
   ]
  },
  {
   "cell_type": "markdown",
   "id": "344d64ab-3c55-4483-b8fc-d486f336ccf6",
   "metadata": {},
   "source": [
    "#### Transforming the above data into a pandas dataframe"
   ]
  },
  {
   "cell_type": "code",
   "execution_count": 10,
   "id": "3f035d0f-0717-4d1c-bdc2-b73ed9f6cdd4",
   "metadata": {},
   "outputs": [],
   "source": [
    "# converting all data extracted from json file into pandas series\n",
    "\n",
    "col_products = pd.Series(list_products[0])\n",
    "col_ingredients = pd.Series(ingredients)\n",
    "col_metric_unit = pd.Series(metric)\n",
    "col_instructions = pd.Series(text)"
   ]
  },
  {
   "cell_type": "code",
   "execution_count": 11,
   "id": "2e2f5fdd-3c6a-4600-ae46-212217de2bef",
   "metadata": {},
   "outputs": [
    {
     "data": {
      "text/html": [
       "<div>\n",
       "<style scoped>\n",
       "    .dataframe tbody tr th:only-of-type {\n",
       "        vertical-align: middle;\n",
       "    }\n",
       "\n",
       "    .dataframe tbody tr th {\n",
       "        vertical-align: top;\n",
       "    }\n",
       "\n",
       "    .dataframe thead th {\n",
       "        text-align: right;\n",
       "    }\n",
       "</style>\n",
       "<table border=\"1\" class=\"dataframe\">\n",
       "  <thead>\n",
       "    <tr style=\"text-align: right;\">\n",
       "      <th></th>\n",
       "      <th>products</th>\n",
       "      <th>ingredients</th>\n",
       "      <th>metric_unit</th>\n",
       "      <th>instructions</th>\n",
       "    </tr>\n",
       "  </thead>\n",
       "  <tbody>\n",
       "    <tr>\n",
       "      <th>0</th>\n",
       "      <td>homemade-cinnamon-rolls</td>\n",
       "      <td>[unsalted butter, whole milk, granulated sugar...</td>\n",
       "      <td>[(115, g), (480, mL), (100, g), (None, None), ...</td>\n",
       "      <td>Generously butter two disposable foil pie/cake...</td>\n",
       "    </tr>\n",
       "    <tr>\n",
       "      <th>1</th>\n",
       "      <td>whipped-coffee</td>\n",
       "      <td>[hot water, sugar, instant coffee powder, milk...</td>\n",
       "      <td>[(28, g), (24, g), (12, g), (None, None), (Non...</td>\n",
       "      <td>Add the hot water, sugar, and instant coffee t...</td>\n",
       "    </tr>\n",
       "    <tr>\n",
       "      <th>2</th>\n",
       "      <td>fluffy-perfect-pancakes</td>\n",
       "      <td>[flour, baking powder, milk, butter, egg yolks...</td>\n",
       "      <td>[(500, g), (None, None), (960, mL), (170, g), ...</td>\n",
       "      <td>Whisk together the flour and baking powder in ...</td>\n",
       "    </tr>\n",
       "    <tr>\n",
       "      <th>3</th>\n",
       "      <td>tasty-101-cinnamon-rolls</td>\n",
       "      <td>[whole milk, sugar, unsalted butter, active dr...</td>\n",
       "      <td>[(480, mL), (100, g), (None, None), (None, Non...</td>\n",
       "      <td>Make the dough: In a large bowl, whisk togethe...</td>\n",
       "    </tr>\n",
       "    <tr>\n",
       "      <th>4</th>\n",
       "      <td>healthy-banana-pancakes</td>\n",
       "      <td>[ripe bananas, eggs, vanilla extract, quick-co...</td>\n",
       "      <td>[(None, None), (None, None), (None, None), (70...</td>\n",
       "      <td>Mash bananas in a large bowl until smooth. Mix...</td>\n",
       "    </tr>\n",
       "  </tbody>\n",
       "</table>\n",
       "</div>"
      ],
      "text/plain": [
       "                   products  \\\n",
       "0   homemade-cinnamon-rolls   \n",
       "1            whipped-coffee   \n",
       "2   fluffy-perfect-pancakes   \n",
       "3  tasty-101-cinnamon-rolls   \n",
       "4   healthy-banana-pancakes   \n",
       "\n",
       "                                         ingredients  \\\n",
       "0  [unsalted butter, whole milk, granulated sugar...   \n",
       "1  [hot water, sugar, instant coffee powder, milk...   \n",
       "2  [flour, baking powder, milk, butter, egg yolks...   \n",
       "3  [whole milk, sugar, unsalted butter, active dr...   \n",
       "4  [ripe bananas, eggs, vanilla extract, quick-co...   \n",
       "\n",
       "                                         metric_unit  \\\n",
       "0  [(115, g), (480, mL), (100, g), (None, None), ...   \n",
       "1  [(28, g), (24, g), (12, g), (None, None), (Non...   \n",
       "2  [(500, g), (None, None), (960, mL), (170, g), ...   \n",
       "3  [(480, mL), (100, g), (None, None), (None, Non...   \n",
       "4  [(None, None), (None, None), (None, None), (70...   \n",
       "\n",
       "                                        instructions  \n",
       "0  Generously butter two disposable foil pie/cake...  \n",
       "1  Add the hot water, sugar, and instant coffee t...  \n",
       "2  Whisk together the flour and baking powder in ...  \n",
       "3  Make the dough: In a large bowl, whisk togethe...  \n",
       "4  Mash bananas in a large bowl until smooth. Mix...  "
      ]
     },
     "execution_count": 11,
     "metadata": {},
     "output_type": "execute_result"
    }
   ],
   "source": [
    "# adding each pandas series as dataframe columns\n",
    "\n",
    "df = pd.DataFrame()\n",
    "df['products'] = col_products\n",
    "df['ingredients'] = col_ingredients\n",
    "df['metric_unit'] = col_metric_unit\n",
    "df['instructions'] = col_instructions\n",
    "df.head()"
   ]
  },
  {
   "cell_type": "markdown",
   "id": "5eda25c8-70aa-4ec2-9520-32a04d7f5260",
   "metadata": {},
   "source": [
    "#### Merging data using inner join operation and cleaning"
   ]
  },
  {
   "cell_type": "code",
   "execution_count": 12,
   "id": "2c1abaa7-2f24-4868-9d50-d5261f90b2a7",
   "metadata": {},
   "outputs": [],
   "source": [
    "# merging the newly formed dataframe with the tasty_dishes dataframe that contains csv data\n",
    "\n",
    "df_products = df.merge(df_tasty_dishes,how='inner',left_on='products',right_on='slug')"
   ]
  },
  {
   "cell_type": "code",
   "execution_count": 13,
   "id": "cbfe841a-7830-4540-ab4c-e4ad5991100a",
   "metadata": {},
   "outputs": [],
   "source": [
    "# cleaning the data and dropping unnecessary columns and nulls\n",
    "\n",
    "df_products.drop('slug',axis=1,inplace=True)\n",
    "df_products.dropna(inplace = True)\n",
    "df_products.reset_index(inplace = True, drop = False)"
   ]
  },
  {
   "cell_type": "markdown",
   "id": "94e7857c-9c50-406b-a2af-1bcb823491e3",
   "metadata": {
    "jp-MarkdownHeadingCollapsed": true
   },
   "source": [
    "### V. Entity resolution \n",
    "**We're using the library 'pandas_dedupe' to cluster the products based on product names.**"
   ]
  },
  {
   "cell_type": "code",
   "execution_count": 14,
   "id": "da64be28-4344-4cd6-854e-7e7f05b01c12",
   "metadata": {
    "scrolled": true
   },
   "outputs": [
    {
     "name": "stdout",
     "output_type": "stream",
     "text": [
      "Importing data ...\n"
     ]
    },
    {
     "name": "stderr",
     "output_type": "stream",
     "text": [
      "C:\\Users\\varun\\AppData\\Local\\Temp\\ipykernel_38100\\1111005996.py:1: FutureWarning: DataFrame.applymap has been deprecated. Use DataFrame.map instead.\n",
      "  df_final = pandas_dedupe.dedupe_dataframe(df_products,['products'])\n"
     ]
    },
    {
     "name": "stdout",
     "output_type": "stream",
     "text": [
      "Reading from dedupe_dataframe_learned_settings\n",
      "Clustering...\n",
      "# duplicate sets 2855\n"
     ]
    }
   ],
   "source": [
    "df_final = pandas_dedupe.dedupe_dataframe(df_products,['products'])"
   ]
  },
  {
   "cell_type": "code",
   "execution_count": 15,
   "id": "d6fdd6ec-aa78-4aab-a8d1-e67fe96ef211",
   "metadata": {},
   "outputs": [],
   "source": [
    "# formatting the ingredients column back to a list (pandas_dedupe converts all columns into strings)\n",
    "\n",
    "df_final['ingredients'] = df_final.apply(lambda row : [ingredient.strip()[1:-1] for ingredient in row['ingredients'][1:-1].split(', ')], axis =1)"
   ]
  },
  {
   "cell_type": "markdown",
   "id": "dc334da0-9c2d-4e4f-8caa-4c25e3558223",
   "metadata": {},
   "source": [
    "#### Extract cluster-keywords and add them to the dataframe to make it easier to access products through clusters"
   ]
  },
  {
   "cell_type": "code",
   "execution_count": 16,
   "id": "96a1893f-342d-465b-8ef0-fe97bd86a001",
   "metadata": {},
   "outputs": [],
   "source": [
    "# extract_keywords gets the stem of each word and returns the first 3 words based on the number of appearances\n",
    "\n",
    "def extract_keywords(products):\n",
    "    keywords = [ps.stem(prod) for prod in products.split('-')]\n",
    "    counter = collections.Counter(keywords)\n",
    "    return [word for word,count in counter.most_common()[:2]]\n",
    "\n",
    "# add_keywords adds the extract_keywords to the dataframe\n",
    "def add_keywords(products_df):\n",
    "    cluster_groups = df_final.groupby('cluster id')['products'].agg(list)\n",
    "    cluster_keywords_df = pd.DataFrame(index=cluster_groups.index)\n",
    "    cluster_keywords_df['cluster_keywords'] = cluster_groups.apply(lambda products_list: ', '.join(extract_keywords('-'.join(products_list))))\n",
    "    \n",
    "    # Merge the cluster_keywords back to the original dataframe\n",
    "    df= pd.merge(df_final, cluster_keywords_df, on='cluster id')\n",
    "    \n",
    "    # Display the resulting dataframe\n",
    "    df = df[['products','ingredients','metric_unit','instructions','calories','protein','fat','sugar','carbohydrates','fiber','cluster id','cluster_keywords']]\n",
    "    return df"
   ]
  },
  {
   "cell_type": "code",
   "execution_count": 17,
   "id": "b9860154-0e5c-4d53-98c3-77ef47733a7f",
   "metadata": {},
   "outputs": [],
   "source": [
    "#call the add_keywords funtion\n",
    "\n",
    "df = add_keywords(df_final)"
   ]
  },
  {
   "cell_type": "code",
   "execution_count": 18,
   "id": "6746d55a-341d-4ceb-91b2-92373724a4c0",
   "metadata": {},
   "outputs": [
    {
     "data": {
      "text/html": [
       "<div>\n",
       "<style scoped>\n",
       "    .dataframe tbody tr th:only-of-type {\n",
       "        vertical-align: middle;\n",
       "    }\n",
       "\n",
       "    .dataframe tbody tr th {\n",
       "        vertical-align: top;\n",
       "    }\n",
       "\n",
       "    .dataframe thead th {\n",
       "        text-align: right;\n",
       "    }\n",
       "</style>\n",
       "<table border=\"1\" class=\"dataframe\">\n",
       "  <thead>\n",
       "    <tr style=\"text-align: right;\">\n",
       "      <th></th>\n",
       "      <th>products</th>\n",
       "      <th>ingredients</th>\n",
       "      <th>metric_unit</th>\n",
       "      <th>instructions</th>\n",
       "      <th>calories</th>\n",
       "      <th>protein</th>\n",
       "      <th>fat</th>\n",
       "      <th>sugar</th>\n",
       "      <th>carbohydrates</th>\n",
       "      <th>fiber</th>\n",
       "      <th>cluster id</th>\n",
       "      <th>cluster_keywords</th>\n",
       "    </tr>\n",
       "  </thead>\n",
       "  <tbody>\n",
       "    <tr>\n",
       "      <th>0</th>\n",
       "      <td>homemade-cinnamon-rolls</td>\n",
       "      <td>[unsalted butter, whole milk, granulated sugar...</td>\n",
       "      <td>[('115', 'g'), ('480', 'ml'), ('100', 'g'), (n...</td>\n",
       "      <td>generously butter two disposable foil pie/cake...</td>\n",
       "      <td>479.0</td>\n",
       "      <td>7.0</td>\n",
       "      <td>21.0</td>\n",
       "      <td>24.0</td>\n",
       "      <td>63.0</td>\n",
       "      <td>1.0</td>\n",
       "      <td>120</td>\n",
       "      <td>roll, cinnamon</td>\n",
       "    </tr>\n",
       "    <tr>\n",
       "      <th>1</th>\n",
       "      <td>healthier-homemade-cinnamon-rolls</td>\n",
       "      <td>[almond milk, coconut oil, brown sugar, active...</td>\n",
       "      <td>[('480', 'ml'), ('100', 'g'), ('55', 'g'), (no...</td>\n",
       "      <td>generously butter a 9-inch (23 cm) cast iron o...</td>\n",
       "      <td>347.0</td>\n",
       "      <td>7.0</td>\n",
       "      <td>15.0</td>\n",
       "      <td>12.0</td>\n",
       "      <td>47.0</td>\n",
       "      <td>5.0</td>\n",
       "      <td>120</td>\n",
       "      <td>roll, cinnamon</td>\n",
       "    </tr>\n",
       "    <tr>\n",
       "      <th>2</th>\n",
       "      <td>bacon-cinnamon-rolls</td>\n",
       "      <td>[whole milk, granulated sugar, unsalted butter...</td>\n",
       "      <td>[('480', 'ml'), ('100', 'g'), (none, none), (n...</td>\n",
       "      <td>make the dough: in a large bowl, whisk togethe...</td>\n",
       "      <td>1033.0</td>\n",
       "      <td>40.0</td>\n",
       "      <td>37.0</td>\n",
       "      <td>49.0</td>\n",
       "      <td>129.0</td>\n",
       "      <td>3.0</td>\n",
       "      <td>120</td>\n",
       "      <td>roll, cinnamon</td>\n",
       "    </tr>\n",
       "    <tr>\n",
       "      <th>3</th>\n",
       "      <td>molten-cinnamon-rolls</td>\n",
       "      <td>[cinnamon roll dough, cream cheese, granulated...</td>\n",
       "      <td>[(none, none), ('225', 'g'), ('50', 'g'), (non...</td>\n",
       "      <td>preheat oven to 400degf (200degc) take two cin...</td>\n",
       "      <td>163.0</td>\n",
       "      <td>2.0</td>\n",
       "      <td>13.0</td>\n",
       "      <td>8.0</td>\n",
       "      <td>8.0</td>\n",
       "      <td>0.0</td>\n",
       "      <td>120</td>\n",
       "      <td>roll, cinnamon</td>\n",
       "    </tr>\n",
       "    <tr>\n",
       "      <th>4</th>\n",
       "      <td>gingerbread-cinnamon-rolls</td>\n",
       "      <td>[all purpose flour, whole wheat flour, granula...</td>\n",
       "      <td>[('250', 'g'), ('185', 'g'), ('100', 'g'), (no...</td>\n",
       "      <td>make the dough: in a large bowl, whisk togethe...</td>\n",
       "      <td>491.0</td>\n",
       "      <td>11.0</td>\n",
       "      <td>11.0</td>\n",
       "      <td>43.0</td>\n",
       "      <td>87.0</td>\n",
       "      <td>3.0</td>\n",
       "      <td>120</td>\n",
       "      <td>roll, cinnamon</td>\n",
       "    </tr>\n",
       "  </tbody>\n",
       "</table>\n",
       "</div>"
      ],
      "text/plain": [
       "                            products  \\\n",
       "0            homemade-cinnamon-rolls   \n",
       "1  healthier-homemade-cinnamon-rolls   \n",
       "2               bacon-cinnamon-rolls   \n",
       "3              molten-cinnamon-rolls   \n",
       "4         gingerbread-cinnamon-rolls   \n",
       "\n",
       "                                         ingredients  \\\n",
       "0  [unsalted butter, whole milk, granulated sugar...   \n",
       "1  [almond milk, coconut oil, brown sugar, active...   \n",
       "2  [whole milk, granulated sugar, unsalted butter...   \n",
       "3  [cinnamon roll dough, cream cheese, granulated...   \n",
       "4  [all purpose flour, whole wheat flour, granula...   \n",
       "\n",
       "                                         metric_unit  \\\n",
       "0  [('115', 'g'), ('480', 'ml'), ('100', 'g'), (n...   \n",
       "1  [('480', 'ml'), ('100', 'g'), ('55', 'g'), (no...   \n",
       "2  [('480', 'ml'), ('100', 'g'), (none, none), (n...   \n",
       "3  [(none, none), ('225', 'g'), ('50', 'g'), (non...   \n",
       "4  [('250', 'g'), ('185', 'g'), ('100', 'g'), (no...   \n",
       "\n",
       "                                        instructions calories protein   fat  \\\n",
       "0  generously butter two disposable foil pie/cake...    479.0     7.0  21.0   \n",
       "1  generously butter a 9-inch (23 cm) cast iron o...    347.0     7.0  15.0   \n",
       "2  make the dough: in a large bowl, whisk togethe...   1033.0    40.0  37.0   \n",
       "3  preheat oven to 400degf (200degc) take two cin...    163.0     2.0  13.0   \n",
       "4  make the dough: in a large bowl, whisk togethe...    491.0    11.0  11.0   \n",
       "\n",
       "  sugar carbohydrates fiber  cluster id cluster_keywords  \n",
       "0  24.0          63.0   1.0         120   roll, cinnamon  \n",
       "1  12.0          47.0   5.0         120   roll, cinnamon  \n",
       "2  49.0         129.0   3.0         120   roll, cinnamon  \n",
       "3   8.0           8.0   0.0         120   roll, cinnamon  \n",
       "4  43.0          87.0   3.0         120   roll, cinnamon  "
      ]
     },
     "execution_count": 18,
     "metadata": {},
     "output_type": "execute_result"
    }
   ],
   "source": [
    "df.head()"
   ]
  },
  {
   "cell_type": "markdown",
   "id": "d3ab7f02-6238-48dc-99c5-9f882cc85280",
   "metadata": {
    "jp-MarkdownHeadingCollapsed": true
   },
   "source": [
    "### VI. Knowledge Graph creation"
   ]
  },
  {
   "cell_type": "markdown",
   "id": "84b3c16d-0342-4da7-a541-c2b001fa1b57",
   "metadata": {},
   "source": [
    "#### Create neo4j graph using the dataframe "
   ]
  },
  {
   "cell_type": "code",
   "execution_count": 19,
   "id": "6144835b-e814-4eac-9072-60c7b0b542fb",
   "metadata": {},
   "outputs": [],
   "source": [
    "#RUN THIS ONLY ONCE\n",
    "def create_graph(tx, cluster_id, cluster_keywords, product_name, ingredients, instructions, protein, fat, calories, sugar, carbohydrates, fiber):\n",
    "    # converting few fields back to float from string\n",
    "    protein = float(protein)\n",
    "    fat = float(fat)\n",
    "    calories = float(calories)\n",
    "    sugar = float(sugar)\n",
    "    carbohydrates = float(carbohydrates)\n",
    "    fiber = float(fiber)\n",
    "    # create Cluster node\n",
    "    tx.run(\"\"\"\n",
    "        MERGE (c:Cluster {name: $cluster_id, keywords: $cluster_keywords})\n",
    "    \"\"\", cluster_id=cluster_id, cluster_keywords=cluster_keywords)\n",
    "\n",
    "    # create pRODUCT node\n",
    "    tx.run(\"\"\"\n",
    "        MERGE (p:Product {name: $product_name, protein: $protein, fat: $fat,\n",
    "                          calories: $calories, sugar: $sugar, carbohydrates: $carbohydrates, fiber: $fiber})\n",
    "    \"\"\", product_name=product_name, protein=protein, fat=fat, calories=calories, sugar=sugar, carbohydrates=carbohydrates, fiber=fiber)\n",
    "    \n",
    "    # create HAS_PRODUCTS relationships between cluster and Product\n",
    "    if product_name:\n",
    "        tx.run(\"\"\"MATCH (c:Cluster {name: $cluster_id})\n",
    "                  MATCH (p:Product {name: $product_name})\n",
    "                  MERGE (c)-[:HAS_PRODUCTS]->(p)\n",
    "               \"\"\", cluster_id=cluster_id, product_name=product_name)\n",
    "            \n",
    "    # create Ingredient nodes\n",
    "    for ingredient in ingredients:\n",
    "        if ingredient:\n",
    "            tx.run(\"\"\"\n",
    "                MERGE (i:Ingredient {name: $ingredient})\n",
    "            \"\"\", ingredient=ingredient)\n",
    "\n",
    "    # create CONTAINS relationships between Product and Ingredient\n",
    "    for ingredient in ingredients:\n",
    "        if ingredient:\n",
    "            tx.run(\"\"\"\n",
    "                MATCH (p:Product {name: $product_name})\n",
    "                MATCH (i:Ingredient {name: $ingredient})\n",
    "                MERGE (p)-[:CONTAINS]->(i)\n",
    "            \"\"\", product_name=product_name, ingredient=ingredient) \n",
    "\n",
    "    # create Instruction nodes\n",
    "    if instructions:\n",
    "        tx.run(\"\"\"\n",
    "            MERGE (j:Instructions {instructions: $instructions})\n",
    "        \"\"\", instructions=instructions)\n",
    "    # create HAS_INSTRUCTIONS relationships between Product and Ingredient\n",
    "        tx.run(\"\"\"\n",
    "                MATCH (p:Product {name: $product_name})\n",
    "                MATCH (j:Instructions {instructions: $instructions})\n",
    "                MERGE (p)-[:HAS_INSTRUCTIONS]->(j)\n",
    "            \"\"\", product_name=product_name, instructions=instructions)"
   ]
  },
  {
   "cell_type": "code",
   "execution_count": null,
   "id": "1f318f5b-a23d-4da4-a6b4-fd385c4935fd",
   "metadata": {},
   "outputs": [],
   "source": [
    "# connect to the database and run the transaction\n",
    "with GraphDatabase.driver(uri, auth=(username, password)) as driver:\n",
    "    with driver.session() as session:\n",
    "        for index, row in df.iterrows():\n",
    "            session.execute_write(create_graph,\n",
    "                                  row['cluster id'],\n",
    "                                  row['cluster_keywords'],\n",
    "                                  row['products'],\n",
    "                                  row['ingredients'],\n",
    "                                  row['instructions'],\n",
    "                                  row['protein'],\n",
    "                                  row['fat'],\n",
    "                                  row['calories'],\n",
    "                                  row['sugar'],\n",
    "                                  row['carbohydrates'],\n",
    "                                  row['fiber'])"
   ]
  },
  {
   "cell_type": "markdown",
   "id": "230c8af5-6d6a-4a6a-88e5-c9594581cb59",
   "metadata": {
    "jp-MarkdownHeadingCollapsed": true
   },
   "source": [
    "### VII. Virtual Integration with Postgres"
   ]
  },
  {
   "cell_type": "markdown",
   "id": "f8345e19-dfb0-468e-a917-27e1d8fa4bad",
   "metadata": {},
   "source": [
    "#### Funtion to add nourish_db data into the dataframe if the cluster keywords match the product names in nourish_db"
   ]
  },
  {
   "cell_type": "code",
   "execution_count": null,
   "id": "f0e05180-2ce5-4775-b0a3-4b312216ee56",
   "metadata": {},
   "outputs": [],
   "source": [
    "def add_usda_rows(df, clus_key, df_experimental):\n",
    "    # get cluster id\n",
    "    cluster_id = df[df['cluster_keywords'] == [clus_key for clus_key in df['cluster_keywords']]]['cluster id'].unique()[0]\n",
    "\n",
    "    # match cluster keyword with product description from usda_2022_branded_food_experimental\n",
    "    matches = process.extract(clus_key, df_experimental['description'],scorer=fuzz.token_sort_ratio)\n",
    "    threshold = 90\n",
    "    filtered_matches = [match for match in matches if match[1] >= threshold]\n",
    "    fdc_to_match = []\n",
    "    \n",
    "    # Extract rows based on the filtered matches\n",
    "    for match in filtered_matches:\n",
    "        index = match[2]\n",
    "        matched_row = df_experimental.iloc[index]\n",
    "        fdc_to_match.append(matched_row.fdc_id)\n",
    "\n",
    "    # run the query only if there were fdc ids to match\n",
    "    if len(fdc_to_match)>0:\n",
    "        sql_query = f\"\"\"SELECT t1.fdc_id, t1.description, t2.amount, t3.name, t3.unit_name, t4.ingredients \\\n",
    "        FROM usda_2022_food_branded_experimental t1 \\\n",
    "        LEFT JOIN usda_2022_branded_food_nutrients t2 ON t1.fdc_id = t2.fdc_id \\\n",
    "        LEFT JOIN usda_2022_branded_food_product t4 ON t1.fdc_id = t4.fdc_id \\\n",
    "        LEFT JOIN usda_2022_nutrient_master t3 ON t2.nutrient_id = t3.id \\\n",
    "        WHERE t1.fdc_id IN {'('}{(',').join(str(x) for x in fdc_to_match)}{')'} \"\"\"\n",
    "\n",
    "        cur = connection.cursor()\n",
    "        cur.execute(sql_query)\n",
    "        records = cur.fetchall()\n",
    "        columns = [desc[0] for desc in cur.description]\n",
    "        cur.close()\n",
    "        records_df = pd.DataFrame(records, columns = columns)\n",
    "\n",
    "        #create a df out of the rows from nourish_db\n",
    "        for fdc in fdc_to_match:\n",
    "            new_df = records_df.groupby('fdc_id').get_group(fdc)\n",
    "            new_row_append = pd.Series([new_df['description'].values[0].lower(), \\\n",
    "                                re.sub(\"[\\(\\[].*?[\\)\\]]\", \"\",new_df.ingredients.values[0].lower()), \\\n",
    "                                None, \\\n",
    "                                None, \\\n",
    "                               float(new_df[new_df['name'] == 'Energy']['amount'].values[0]), \\\n",
    "                               float(new_df[new_df['name'] == 'Protein']['amount'].values[0]), \\\n",
    "                               float(new_df[new_df['name'] == 'Total lipid (fat)']['amount'].values[0]), \\\n",
    "                               float(new_df[new_df['name'] == 'Sugars, Total']['amount'].values[0]), \\\n",
    "                               float(new_df[new_df['name'] == 'Carbohydrate, by difference']['amount'].values[0]), \\\n",
    "                               float(new_df[new_df['name'] == 'Fiber, total dietary']['amount'].values[0]), \\\n",
    "                               cluster_id, \\\n",
    "                               clus_key], \\\n",
    "                               index=df.columns)\n",
    "            usda_df = pd.DataFrame([new_row_append], columns=df.columns)\n",
    "        return usda_df\n",
    "    else:\n",
    "        print(\"No match found, records not inserted\")"
   ]
  },
  {
   "cell_type": "markdown",
   "id": "b27cf931-a6e7-43d4-b47a-2e7d46295aca",
   "metadata": {
    "jp-MarkdownHeadingCollapsed": true
   },
   "source": [
    "### VIII. User queries to run on the neo4j knowledge graph"
   ]
  },
  {
   "cell_type": "code",
   "execution_count": 21,
   "id": "2e6e615e-129c-4b8e-9cf8-02df33f303c5",
   "metadata": {},
   "outputs": [],
   "source": [
    "# function to run the query provided\n",
    "\n",
    "def run_cypher_query(query):\n",
    "    with GraphDatabase.driver(uri, auth=(username, password)) as driver:\n",
    "        with driver.session() as session:\n",
    "            result = session.run(query)\n",
    "            return result.data()"
   ]
  },
  {
   "cell_type": "markdown",
   "id": "501b4459-7383-42f1-a8ca-b77ad99bacee",
   "metadata": {},
   "source": [
    "#### Query 1 : \"I have vegan margarine, soy milk, sunflower oil, plain flour, caster sugar, baking powder, salt at home. Can you suggest me a quick recipe to make a dish out of this?\""
   ]
  },
  {
   "cell_type": "markdown",
   "id": "2f2a028d-7b90-413e-bc8e-1228de6cb210",
   "metadata": {},
   "source": [
    "##### Function give_recipe_for_ingredients \n",
    "- searches for products that contain all the ingredients provided by the user\n",
    "- sorts the products based on number of sentences in the instructions\n",
    "- returns the recipe with least number of sentences"
   ]
  },
  {
   "cell_type": "code",
   "execution_count": 22,
   "id": "1dd52786-69ad-43fe-a4cc-06136367ac65",
   "metadata": {},
   "outputs": [],
   "source": [
    "def give_recipe_for_ingredients(list_of_ingredients):\n",
    "    #graph_query - \"MATCH (p:Product)-[:CONTAINS]->(i:Ingredient) WITH p, COLLECT(i.name) AS productIngredients WHERE ALL(i IN ['vegan margarine', 'soy milk', 'sunflower oil', 'plain flour', 'caster sugar', 'baking powder', 'salt'] WHERE i IN productIngredients) MATCH (p)-[:HAS_INSTRUCTIONS]->(instr) RETURN p, instr\"\n",
    "    query1 = f\"\"\"MATCH (p:Product)-[:CONTAINS]->(i:Ingredient) \n",
    "            WITH p, COLLECT(i.name) AS productIngredients \n",
    "            WHERE ALL(i IN {list_of_ingredients} WHERE i IN productIngredients) \n",
    "            MATCH (p)-[:HAS_INSTRUCTIONS]->(instr) \n",
    "            RETURN p.name AS productName, instr.instructions, size(apoc.text.split(instr.instructions, \"\\.\")) AS numsentences \n",
    "            ORDER BY numsentences ASC LIMIT 1\n",
    "            \"\"\"\n",
    "    result1 = run_cypher_query(query1)\n",
    "    print(f\"With the ingredients provided, you can make {(' ').join(result1[0]['productName'].split('-')).upper()}.\\nThese are the instructions to prepare - \\n{result1[0]['instr.instructions']}\")"
   ]
  },
  {
   "cell_type": "code",
   "execution_count": 23,
   "id": "796e840c-5069-4ffd-a0e0-2f51360f06ed",
   "metadata": {},
   "outputs": [
    {
     "name": "stdout",
     "output_type": "stream",
     "text": [
      "With the ingredients provided, you can make VEGAN DOUGHNUTS.\n",
      "These are the instructions to prepare - \n",
      "gently melt the butter over a low-medium heat. add milk and 2 tablespoons of sunflower oil and mix together. once combined, take off the heat and set aside. in a separate bowl, combine the flour, half of the sugar, baking powder and salt with a fork. make a well in the center and pour in the butter mixture. combine gradually until a thick dough forms. using your hands, roll dough into little flat balls and with your thumb, press a hole in the center of each doughnut. (you may need to flour your hands for this part to avoid getting sticky!) heat up oil in a pan. to know when it's hot enough, fry a little bit of bread in the oil. if it goes brown and floats to the top, in 45-50 seconds the oil will be ready! gently lay the doughnuts into the oil using a spatula. fry for about 3-5 minutes on each side, until golden brown. transfer the doughnuts onto some tissue paper to soak up any excess oil. roll the doughnut into a bowl of the remaining half of sugar. enjoy!\n"
     ]
    }
   ],
   "source": [
    "list_of_ingredients = ['vegan margarine', 'soy milk', 'sunflower oil', 'plain flour', 'caster sugar', 'baking powder', 'salt']\n",
    "give_recipe_for_ingredients(list_of_ingredients)"
   ]
  },
  {
   "cell_type": "markdown",
   "id": "2ffff9d5-3695-48c8-aec5-a999c77b395c",
   "metadata": {},
   "source": [
    "#### Query 2 : \"I am a diabetes patient. Help me make some coffee while keeping my diabetes in mind\""
   ]
  },
  {
   "cell_type": "markdown",
   "id": "f9b4ea72-0e48-4f58-9032-38b669961f0c",
   "metadata": {},
   "source": [
    "##### Function food_for_condition \n",
    "- searches for clusters with keywords that contain the product_to_make\n",
    "- for all the products under each cluster, removes the ingredient that the user needs to avoid based on the given condition\n",
    "- for example - A diabetic patient needs to avoid sugar/alcohol (fetched from Disease-Nutrient-Avoidance.csv)\n",
    "- sorts the products in ascending order based on calories\n",
    "- gives the user option to choose between the 3 healthiest products\n",
    "- provides the user with ingredients to use and instructions to make the chosen product"
   ]
  },
  {
   "cell_type": "code",
   "execution_count": 24,
   "id": "cd62bea5-95d5-4e3e-8092-c4bac506ee6e",
   "metadata": {},
   "outputs": [],
   "source": [
    "def food_for_condition (prod_to_make, user_query, food_to_avoid_file):\n",
    "\n",
    "    #get the food to avoid data\n",
    "    food_to_avoid = pd.read_csv(food_to_avoid_file, delimiter = ';')\n",
    "\n",
    "    #from the user query fetch the condition mentioned\n",
    "    for condition in food_to_avoid['Condition']:\n",
    "        if condition.lower() in user_query:\n",
    "            condition_to_consider = condition\n",
    "            \n",
    "    #search_keywords - food items to avoid for the given condition\n",
    "    search_keywords = food_to_avoid[food_to_avoid['Condition']==condition_to_consider]['food_to_avoid'].values[0].split(',')\n",
    "\n",
    "    #graph_query - \"WITH ['sugar','alcohol'] AS subs  MATCH (n:Cluster)  WHERE n.keywords CONTAINS 'coffe'  WITH n as cluster, subs  MATCH (cluster)-[:HAS_PRODUCTS]->(p:Product)  MATCH (p)-[:HAS_INSTRUCTIONS]->(instr:Instructions)  MATCH (p)-[:CONTAINS]->(i:Ingredient)   WHERE p.name CONTAINS 'coffe'   AND NOT ANY(word IN subs WHERE i.name CONTAINS word)  RETURN p, instr, COLLECT(i) ORDER BY p.calories ASC  LIMIT 3\"\n",
    "    #Cypher query to fetch low calorie product requested by user\n",
    "    query2 = f\"\"\"WITH {search_keywords} AS subs \n",
    "                MATCH (n:Cluster) \n",
    "                WHERE n.keywords CONTAINS '{prod_to_make}' \n",
    "                WITH n as cluster, subs \n",
    "                MATCH (cluster)-[:HAS_PRODUCTS]->(p:Product) \n",
    "                MATCH (p)-[:HAS_INSTRUCTIONS]->(instr:Instructions) \n",
    "                MATCH (p)-[:CONTAINS]->(i:Ingredient)  \n",
    "                WHERE p.name CONTAINS '{prod_to_make}'  \n",
    "                AND NOT ANY(word IN subs WHERE i.name CONTAINS word) \n",
    "                RETURN p.name as Product, instr.instructions AS instructions, COLLECT(i.name) as ingredients, p.calories AS calories \n",
    "                ORDER BY calories ASC \n",
    "                LIMIT 3\n",
    "                \"\"\"\n",
    "    result2 = run_cypher_query(query2)\n",
    "    \n",
    "    #Provide the user with 3 options of the product with least calories\n",
    "    recipe = input(f\"I have {len(result2)} recipes which are less in calories. Please pick one recipe among {(', ').join([result2[i]['Product'] for i in range(len(result2))])}\\n\\n\")\n",
    "\n",
    "    #format the requested recipe to search among the result\n",
    "    input_string = ('-').join(recipe.split(' ')).lower()\n",
    "\n",
    "    #print the ingredients and instructions for the requested recipe\n",
    "    for r in result2:\n",
    "        if r['Product'] == input_string:\n",
    "            for key in search_keywords:\n",
    "                if key in r['instructions']:\n",
    "                    r['instructions'] = r['instructions'].replace(f\"{key}, \", '')\n",
    "            print(f\"\\nIngredients to use : {r['ingredients']}\\n\\nInstructions to make {input_string} - {r['instructions']}\")"
   ]
  },
  {
   "cell_type": "code",
   "execution_count": 25,
   "id": "42219b5c-153b-4883-a2b4-393019d840b6",
   "metadata": {},
   "outputs": [
    {
     "name": "stdin",
     "output_type": "stream",
     "text": [
      "I have 3 recipes which are less in calories. Please pick one recipe among mini-butterfinger-cheesecakes, strawberry-cheesecake-crackers, strawberry-cheesecake-crescent-rolls\n",
      "\n",
      " mini-butterfinger-cheesecakes\n"
     ]
    },
    {
     "name": "stdout",
     "output_type": "stream",
     "text": [
      "\n",
      "Ingredients to use : ['cream cheese', 'large eggs', 'unsalted butter', 'chocolate sandwich cookies', 'vanilla extract', 'butterfinger(r) bits', 'whipped topping']\n",
      "\n",
      "Instructions to make mini-butterfinger-cheesecakes - preheat the oven to 350degf (180degc). line 2 24-count mini muffin tins with paper liners. (alternatively, use a standard 12-count muffin tin.) add the chocolate sandwich cookies to a food processor and pulse until finely chopped. add the melted butter and pulse until combined. in a medium bowl, use an electric hand mixer on medium speed to beat together the cream cheese, eggs, and vanilla until light and fluffy, 5 minutes. assemble the cheesecakes: scoop  1/2 teaspoon of the cookie crumb mixture into each paper liner and press down in an even layer. add  1/2 teaspoon of the crushed butterfinger(r) bits over the cookie crust. fill the liner to the top with the cream cheese filling. bake for 15 minutes, or until the mini cheesecakes are light golden brown around the edges. remove from the oven and let cool for 20 minutes, then transfer to the refrigerator to chill. before serving, add the whipped topping to a piping bag fitted with a star-shaped tip. pipe a dollop of the whipped topping on top of each mini cheesecake and sprinkle the remaining butterfinger(r) bits on top. serve cold. leftovers will keep in an airtight container in the refrigerator for up to 1 week. enjoy!\n"
     ]
    }
   ],
   "source": [
    "prod_to_make = ps.stem('cheesecake')\n",
    "user_query = \"I am a diabetes patient. Help me make some cheesecake while keeping my diabetes in mind\"\n",
    "               \n",
    "food_for_condition (prod_to_make, user_query, 'Disease-Nutrient-Avoidance.csv')"
   ]
  },
  {
   "cell_type": "markdown",
   "id": "963e56f6-caf0-40c6-90ee-85231170a9fa",
   "metadata": {},
   "source": [
    "#### Query 3 : \"I want to make Healthy Pancakes. Can you give me a recipe?\" "
   ]
  },
  {
   "cell_type": "markdown",
   "id": "9c236ce7-7584-4476-82e6-0b8456a16a99",
   "metadata": {},
   "source": [
    "##### Function give_healthy_recipe \n",
    "- searches for cluster_keywords that contain the product provided by the user\n",
    "-  gets the products under these clusters that contain the search_substring\n",
    "-  sorts them in ascending order based on calories\n",
    "-  returns the 3 most healthiest recipes"
   ]
  },
  {
   "cell_type": "code",
   "execution_count": 26,
   "id": "eb6dd447-3654-4e38-8035-533376c91d12",
   "metadata": {},
   "outputs": [],
   "source": [
    "# function to provide the user with healthiest recipe of the asked product\n",
    "def give_healthy_recipe(product):\n",
    "\n",
    "    # search substring - stem of the product\n",
    "    search_substring = ps.stem(product)\n",
    "\n",
    "    # query to run\n",
    "    #Graph_Query - \"MATCH (n:Cluster) WHERE n.keywords CONTAINS 'pancak' WITH n as cluster MATCH (cluster)-[:HAS_PRODUCTS]->(p:Product) MATCH (p)-[:HAS_INSTRUCTIONS]->(instr:Instructions)  MATCH (p)-[:CONTAINS]->(i:Ingredient)  RETURN p, instr, COLLECT(i) as ingredient\"\n",
    "    query3 = f\"\"\"MATCH (n:Cluster) \n",
    "                WHERE n.keywords CONTAINS '{search_substring}' \n",
    "                WITH n as cluster \n",
    "                MATCH (cluster)-[:HAS_PRODUCTS]->(p:Product) \n",
    "                MATCH (p)-[:HAS_INSTRUCTIONS]->(instr:Instructions) \n",
    "                MATCH (p)-[:CONTAINS]->(i:Ingredient) \n",
    "                WHERE p.name CONTAINS '{search_substring}' \n",
    "                RETURN p.name as Product, instr.instructions AS instructions, COLLECT(i.name) as ingredients, p.calories AS calories \n",
    "                ORDER BY calories ASC \n",
    "                LIMIT 3\n",
    "                \"\"\"\n",
    "    clusters_data = run_cypher_query(query3)\n",
    "    return clusters_data, search_substring"
   ]
  },
  {
   "cell_type": "code",
   "execution_count": 27,
   "id": "50ef902a-fd85-4980-a787-1bc2b3d2868e",
   "metadata": {},
   "outputs": [],
   "source": [
    "# add the usda rows on the go\n",
    "\n",
    "usda_df = add_usda_rows(df, 'Pancake', df_experimental)\n",
    "if usda_df is not None:\n",
    "    with GraphDatabase.driver(uri, auth=(username, password)) as driver:\n",
    "        with driver.session() as session:\n",
    "            for index, row in usda_df.iterrows():\n",
    "                session.execute_write(create_graph,\n",
    "                                      row['cluster id'],\n",
    "                                      row['cluster_keywords'],\n",
    "                                      row['products'],\n",
    "                                      row['ingredients'],\n",
    "                                      row['instructions'],\n",
    "                                      row['protein'],\n",
    "                                      row['fat'],\n",
    "                                      row['calories'],\n",
    "                                      row['sugar'],\n",
    "                                      row['carbohydrates'],\n",
    "                                      row['fiber'])\n",
    "\n",
    "# call the function and store clusters_data and search_substring into variables\n",
    "\n",
    "clusters_data, search_substring = give_healthy_recipe('Pancake')"
   ]
  },
  {
   "cell_type": "code",
   "execution_count": 28,
   "id": "41ef3851-a6f0-47bf-826a-8fbd3baf1478",
   "metadata": {},
   "outputs": [
    {
     "name": "stdout",
     "output_type": "stream",
     "text": [
      "['bananas', 'blueberry', 'butter', 'cinnamon', 'eggs', 'flour', 'large ripe bananas', 'milk', 'topping of your choice', 'vanilla', 'vanilla extract']\n"
     ]
    }
   ],
   "source": [
    "# remove the ingredients that are similar to each other using fuzzywuzzy library\n",
    "\n",
    "ingredients = sorted(list(set([ing for i in clusters_data for ing in i['ingredients']])))\n",
    "for i in ingredients:\n",
    "    for j in ingredients:\n",
    "        ratio = fuzz.ratio(i,j)\n",
    "        if ratio>65 and i!=j:\n",
    "            ingredients.remove(j)\n",
    "\n",
    "print(ingredients)"
   ]
  },
  {
   "cell_type": "code",
   "execution_count": 29,
   "id": "3869ee08-605d-47d6-a286-5c7a432978d1",
   "metadata": {},
   "outputs": [
    {
     "data": {
      "text/plain": [
       "['blend all ingredients in a blender until completely combined. divide among all the cups of a greased muffin tin, cups will be about  1/3  full. bake at 400degf (200degc) for 13-15 minutes. pancakes will puff up super big, then deflate when you remove them from the oven. fill with whatever you want--fresh fruit and syrup, bacon and eggs, sausage, or jam and whipped cream. enjoy!',\n",
       " 'in a large bowl, mash the bananas until they reach a liquid state. whisk in the eggs. heat butter or oil in a large skillet over medium heat. pour batter into the warm skillet to cook. garnish with desired number of blueberries. after about a minute and a half (or until golden) flip to finish cooking. allow to cool for a minute. serve warm. enjoy!',\n",
       " 'in a bowl, mash bananas. mix in the egg, then vanilla and cinnamon. pour pancake batter in  1/4 cup (60 ml) amounts on a griddle or skillet over medium-high heat. cook until bubbles pop on the surface of the pancake, then flip and cook the other side. enjoy!']"
      ]
     },
     "execution_count": 29,
     "metadata": {},
     "output_type": "execute_result"
    }
   ],
   "source": [
    "# get the instructions for the 3 healthiest products\n",
    "\n",
    "instructions = [i['instructions'] for i in clusters_data]\n",
    "instructions"
   ]
  },
  {
   "cell_type": "markdown",
   "id": "7c777cd1-46d2-48a0-a24b-62688d7cb33f",
   "metadata": {},
   "source": [
    "##### Function summarize_instructions\n",
    "- uses openai to summarize the given instructions\n",
    "- returns the summarized instructions to the user"
   ]
  },
  {
   "cell_type": "code",
   "execution_count": 30,
   "id": "10482387-8276-473d-b835-b7d5f70d5990",
   "metadata": {},
   "outputs": [],
   "source": [
    "# summarize_instructions uses openai to summarize the unstructured data (instructions) to provide to the user\n",
    "\n",
    "def summarize_instructions(search_substring, instructions, ingredients):\n",
    "    openai.api_key = data['passwords']['openai'] \n",
    "    \n",
    "    prompt = \"\"\" Given the following instructions, ingredients and product to make, PLEASE summarize the instructions while STRICTLY following these rules\n",
    "    1. Please get me a summary of the quickest of the recipes, where the instructions do NOT repeat any steps.\n",
    "    2. Please include as many ingredients as possible in the instructions.\n",
    "    3. DO NOT create fictious data.\n",
    "    4. The output content should be in text format.\n",
    "    5. If you will be unable to output within the token limit, please DO NOT include that entry in the response. \"\"\"\n",
    "\n",
    "    #call gpt-4 to extract relations\n",
    "    response = openai.chat.completions.create(\n",
    "        model=\"gpt-4\",\n",
    "        messages=[\n",
    "        {\"role\": \"system\", \"content\": \"You are a helpful assistant that gives the summarized instructions of the given recipes who does NOT repeat any steps\"},\n",
    "        {\"role\": \"user\", \"content\": f\"{prompt}, instructions:{instructions}, ingredients: {ingredients}, product_to_make: {search_substring}\"}\n",
    "        ],\n",
    "        temperature=0,\n",
    "        max_tokens=1024 )\n",
    "    #get the response\n",
    "    print(f\"Ingredients required - {ingredients}\\nInstructions to prepare - {response.choices[0].message.content}\")"
   ]
  },
  {
   "cell_type": "code",
   "execution_count": 31,
   "id": "036a9ddf-224a-40cf-94a5-2cb1e01ebb22",
   "metadata": {},
   "outputs": [
    {
     "name": "stdout",
     "output_type": "stream",
     "text": [
      "Ingredients required - ['bananas', 'blueberry', 'butter', 'cinnamon', 'eggs', 'flour', 'large ripe bananas', 'milk', 'topping of your choice', 'vanilla', 'vanilla extract']\n",
      "Instructions to prepare - To make pancakes, start by mashing bananas in a large bowl until they reach a liquid state. Then, whisk in the eggs. Heat butter in a large skillet over medium heat and pour the batter into the warm skillet. Garnish with blueberries and cook until golden, then flip to finish cooking. Allow to cool for a minute before serving. Enjoy your pancakes!\n"
     ]
    }
   ],
   "source": [
    "summarize_instructions(search_substring, instructions, ingredients)"
   ]
  },
  {
   "cell_type": "markdown",
   "id": "5a2a8c6f-e01e-4fea-9e09-0e345be6719b",
   "metadata": {},
   "source": [
    "#### Query 4 - \"Please give me the vegan substitute of healthier chicken alfredo pasta\""
   ]
  },
  {
   "cell_type": "markdown",
   "id": "b81aebdb-417c-42fa-b519-b3bcddcc3922",
   "metadata": {},
   "source": [
    "##### Function get_vegan_recipe \n",
    "- gets the vegan substitutes data\n",
    "- searches for non-vegan-product in the products\n",
    "- gets the ingredient list and instructions for the non-vegan product\n",
    "- using the vegan substitutes data, replaces the non-vegan ingredients with vegan ingredients\n",
    "- returns the instructions for the new vegan product"
   ]
  },
  {
   "cell_type": "code",
   "execution_count": 32,
   "id": "a80a4c38-4425-43b2-a573-b08ba1b391ac",
   "metadata": {},
   "outputs": [],
   "source": [
    "def get_vegan_recipe(non_veg_prod_name, vegan_csv_file):\n",
    "    #dictionary for substitutes (non_veg:veg)\n",
    "    subs = {}\n",
    "    \n",
    "    #read csv file\n",
    "    vegan_data = pd.read_csv(vegan_csv_file, delimiter = ';')\n",
    "    #convert Vegan_Ingredient string to list\n",
    "    vegan_data['Vegan_Ingredient'] = vegan_data.apply(lambda row : [x for x in row['Vegan_Ingredient'][1:-1].split(', ')], axis =1)\n",
    "\n",
    "    #graph_query - \"MATCH(p:Product)-[:CONTAINS]->(i:Ingredient) MATCH (p)-[:HAS_INSTRUCTIONS]->(j:Instructions) WHERE p.name = 'healthier-chicken-alfredo-pasta' RETURN p, COLLECT(i), j\"\n",
    "    #cypher query to match the product and return recipe and ingredients\n",
    "    query4 = f\"\"\"MATCH(p:Product)-[:CONTAINS]->(i:Ingredient) \n",
    "                MATCH (p)-[:HAS_INSTRUCTIONS]->(j:Instructions) \n",
    "                WHERE p.name = '{non_veg_prod_name}' \n",
    "                RETURN p.name, COLLECT(i.name) AS list_ingredients, j.instructions AS recipe\n",
    "                \"\"\"\n",
    "    result4 = run_cypher_query(query4)\n",
    "\n",
    "    #get substitutes for each non vegan ingredient in the recipe\n",
    "    for id,i in enumerate(result4[0]['list_ingredients']):\n",
    "        match = process.extract(i,vegan_data['Non_Vegan_Ingredient'])\n",
    "        for mtch in match:\n",
    "           if mtch[1]>85:\n",
    "               vegan_item = vegan_data[vegan_data['Non_Vegan_Ingredient']==mtch[0]]['Vegan_Ingredient'].values[0][0]\n",
    "               subs[mtch[0]]= vegan_item\n",
    "    ings = (',').join(result4[0]['list_ingredients'])\n",
    "    #replace each non vegan ingredient in the recipe with its vegan substitute\n",
    "    for k,v in subs.items():\n",
    "        result4[0]['recipe'] = result4[0]['recipe'].replace(k,v)\n",
    "        ings = ings.replace(k,v)\n",
    "            \n",
    "    return result4[0]['recipe'],ings"
   ]
  },
  {
   "cell_type": "code",
   "execution_count": 33,
   "id": "dd1e5b4e-a5db-4c78-b26c-75a6b0120723",
   "metadata": {},
   "outputs": [
    {
     "name": "stdout",
     "output_type": "stream",
     "text": [
      "Ingredients required - ['olive oil', 'cashew cheese', 'vegan meatballs', 'bell peppers', 'low-moisture vegan mozzarella', 'dried basil', 'tomato puree', 'caramelized onions', 'dried oregano', 'pizza dough', 'tomato paste', 'pepper', 'salt', 'garlic']\n",
      "\n",
      "Recipe to make the vegan version of stuffed meatball pie is - \n",
      "\n",
      "preheat oven to 450degf (230degc). cut a 1 pound ball of pizza dough in half and roll out two large discs of dough. spray the inside of a springform pan with cooking spray and lay in one of the dough discs. press the dough into the corners. sprinkle the olive oil, 2 cloves of the minced garlic, salt, and pepper on the dough and brush to cover the surface. press the bottom of the dough with a fork. bake until the dough is cooked and lightly golden brown, 15 minutes. mix together the tomato puree, dried basil, 4 cloves of minced garlic, dried oregano, and tomato paste in a bowl. season to taste with salt and pepper. into the partially cooked bottom layer of pizza dough, shingle a layer of vegan mozzarella slices and then a layer of the homemade marinara sauce. spiral the vegan meatballs in the dish as tightly as possible. cover with more marinara sauce. add a layer of caramelized onions, and more sliced vegan mozzarella. add the green, yellow, and orange bell peppers on top of the vegan mozzarella. cut the second piece of dough into strips to form into a lattice pattern on top of the pie. brush with 2 tablespoons more of olive oil, 2 cloves minced garlic, and kosher salt. bake for 40 minutes to an hour, or until the dough on top is browned and the sauce, vegan meatballs, and cheese are heated through. slice the pie, serve with extra marinara sauce and grated cashew cheese. enjoy!\n"
     ]
    }
   ],
   "source": [
    "non_veg_prod_name = 'stuffed-meatball-pie'\n",
    "vegan_recipe, ings  = get_vegan_recipe(non_veg_prod_name, 'vegan_substitutes.csv')\n",
    "print(f\"Ingredients required - {ings.split(',')}\\n\\nRecipe to make the vegan version of {(' ').join(non_veg_prod_name.split('-'))} is - \\n\\n{vegan_recipe}\")"
   ]
  },
  {
   "cell_type": "markdown",
   "id": "3e111f12-886f-4778-a733-fdc42f4d61b6",
   "metadata": {},
   "source": [
    "#### Query 5 - \"I'm craving for something delicious, give me options for heart-disease-friendly recipes.\""
   ]
  },
  {
   "cell_type": "markdown",
   "id": "aa2bd7cb-eca5-4ecd-988a-b6971e07f394",
   "metadata": {},
   "source": [
    "##### Function get_recipes_for_health_condition\n",
    "- gets the list food items to be avoided by a user with given health condition\n",
    "- unwinds the list of food items\n",
    "- checks for products that don't contain any of the items that need to be avoided\n",
    "- groups the products based on the number of duplicate records\n",
    "- returns the recipes of the products who have duplicate number of records = the length of the food items to avoid list\n",
    "- orders data by fiber content since fiber is good for all health conditions\n",
    "- returns the top 5 recipes to the user"
   ]
  },
  {
   "cell_type": "code",
   "execution_count": 34,
   "id": "a740ab92-80d5-45e2-bed4-74e824d23074",
   "metadata": {},
   "outputs": [],
   "source": [
    "def get_recipes_for_health_condition (condition,health_condition_file):\n",
    "\n",
    "    #read csv file specifying health condition and food to avoid for the condition\n",
    "    health_condition_df = pd.read_csv(health_condition_file, delimiter = ';')\n",
    "\n",
    "    #get the list of food items to avoid for the condition\n",
    "    ingredients_to_remove = health_condition_df[health_condition_df['Condition']==condition]['food_to_avoid'].to_list()[0].split(', ')\n",
    "\n",
    "    #graph_query - \"UNWIND ['butter', 'salt', 'oil', 'ghee', 'avocado', 'beef'] AS x  WITH x, size(['butter', 'salt', 'oil', 'ghee', 'avocado', 'beef']) AS no_of_items  MATCH (p:Product)-[:CONTAINS]->(ing:Ingredient)  MATCH (p:Product)-[:HAS_INSTRUCTIONS]->(ins:Instructions)  WITH COLLECT(ing) AS ing_nodes, COLLECT(ing.name) as ingredients, ins,p,x,no_of_items  WHERE NOT ANY(ingredient IN ingredients WHERE ingredient CONTAINS x)  WITH COUNT(p) AS pcount,p AS product, ing_nodes,ingredients, ins, no_of_items  WHERE no_of_items-pcount=0  RETURN product,ing_nodes,ins ORDER BY product.fiber DESC, product.calories ASC  LIMIT 5\"\n",
    "    #frame cypher query to get all products which don't contain any of the food items listed above\n",
    "    query5 = f\"\"\"UNWIND {ingredients_to_remove} AS x \n",
    "                WITH x, size({ingredients_to_remove}) AS no_of_items \n",
    "                MATCH (p:Product)-[:CONTAINS]->(ing:Ingredient) \n",
    "                MATCH (p:Product)-[:HAS_INSTRUCTIONS]->(ins:Instructions) \n",
    "                WITH COLLECT(ing.name) as ingredients, ins,p,x,no_of_items \n",
    "                WHERE NOT ANY(ingredient IN ingredients WHERE ingredient CONTAINS x) \n",
    "                WITH COUNT(p.name) AS pcount,p.name AS product, ingredients, ins.instructions AS instructions,p.calories AS calories, p.carbohydrates AS carbs, p.sugar AS total_sugar, p.fat AS fat, p.protein AS protein, p.fiber AS fiber, no_of_items \n",
    "                WHERE no_of_items-pcount=0 \n",
    "                RETURN product,ingredients,instructions,calories,carbs,total_sugar,protein,fiber \n",
    "                ORDER BY fiber DESC, calories ASC \n",
    "                LIMIT 5\n",
    "                \"\"\"\n",
    "    #run the cypher query\n",
    "    result5 = run_cypher_query(query5)\n",
    "\n",
    "    #return the result\n",
    "    return result5"
   ]
  },
  {
   "cell_type": "code",
   "execution_count": 35,
   "id": "f167d40a-a857-4506-a17f-5d9ee1313827",
   "metadata": {},
   "outputs": [
    {
     "data": {
      "text/html": [
       "<div>\n",
       "<style scoped>\n",
       "    .dataframe tbody tr th:only-of-type {\n",
       "        vertical-align: middle;\n",
       "    }\n",
       "\n",
       "    .dataframe tbody tr th {\n",
       "        vertical-align: top;\n",
       "    }\n",
       "\n",
       "    .dataframe thead th {\n",
       "        text-align: right;\n",
       "    }\n",
       "</style>\n",
       "<table border=\"1\" class=\"dataframe\">\n",
       "  <thead>\n",
       "    <tr style=\"text-align: right;\">\n",
       "      <th></th>\n",
       "      <th>product</th>\n",
       "      <th>ingredients</th>\n",
       "      <th>instructions</th>\n",
       "      <th>calories</th>\n",
       "      <th>carbs</th>\n",
       "      <th>total_sugar</th>\n",
       "      <th>protein</th>\n",
       "      <th>fiber</th>\n",
       "    </tr>\n",
       "  </thead>\n",
       "  <tbody>\n",
       "    <tr>\n",
       "      <th>0</th>\n",
       "      <td>loaded-sweet-potato</td>\n",
       "      <td>[tomato, guacamole, broccoli, corn, large swee...</td>\n",
       "      <td>pierce air sweet potato with a fork and microw...</td>\n",
       "      <td>530.0</td>\n",
       "      <td>110.0</td>\n",
       "      <td>26.0</td>\n",
       "      <td>19.0</td>\n",
       "      <td>26.0</td>\n",
       "    </tr>\n",
       "    <tr>\n",
       "      <th>1</th>\n",
       "      <td>lettuce-wrap-box</td>\n",
       "      <td>[orange, lettuce, carrot,  sriracha, edamame, ...</td>\n",
       "      <td>place lettuce into box. place sliced peppers, ...</td>\n",
       "      <td>489.0</td>\n",
       "      <td>79.0</td>\n",
       "      <td>28.0</td>\n",
       "      <td>21.0</td>\n",
       "      <td>25.0</td>\n",
       "    </tr>\n",
       "    <tr>\n",
       "      <th>2</th>\n",
       "      <td>banana-bread-overnight-oats</td>\n",
       "      <td>[banana, natural yogurt, vanilla extract, fres...</td>\n",
       "      <td>add all of the ingredients except for the bana...</td>\n",
       "      <td>416.0</td>\n",
       "      <td>74.0</td>\n",
       "      <td>25.0</td>\n",
       "      <td>15.0</td>\n",
       "      <td>24.0</td>\n",
       "    </tr>\n",
       "    <tr>\n",
       "      <th>3</th>\n",
       "      <td>naan-breakfast-pizza</td>\n",
       "      <td>[egg, tikka masala sauce, baked bean, naan bre...</td>\n",
       "      <td>mix together baked beans and tikka masala sauc...</td>\n",
       "      <td>1096.0</td>\n",
       "      <td>168.0</td>\n",
       "      <td>49.0</td>\n",
       "      <td>43.0</td>\n",
       "      <td>23.0</td>\n",
       "    </tr>\n",
       "    <tr>\n",
       "      <th>4</th>\n",
       "      <td>vegan-apple-bread</td>\n",
       "      <td>[vanilla extract, nutmeg, sugar, flour, flax e...</td>\n",
       "      <td>whisk together flour, sugar, baking powder, nu...</td>\n",
       "      <td>447.0</td>\n",
       "      <td>41.0</td>\n",
       "      <td>12.0</td>\n",
       "      <td>13.0</td>\n",
       "      <td>19.0</td>\n",
       "    </tr>\n",
       "  </tbody>\n",
       "</table>\n",
       "</div>"
      ],
      "text/plain": [
       "                       product  \\\n",
       "0          loaded-sweet-potato   \n",
       "1             lettuce-wrap-box   \n",
       "2  banana-bread-overnight-oats   \n",
       "3         naan-breakfast-pizza   \n",
       "4            vegan-apple-bread   \n",
       "\n",
       "                                         ingredients  \\\n",
       "0  [tomato, guacamole, broccoli, corn, large swee...   \n",
       "1  [orange, lettuce, carrot,  sriracha, edamame, ...   \n",
       "2  [banana, natural yogurt, vanilla extract, fres...   \n",
       "3  [egg, tikka masala sauce, baked bean, naan bre...   \n",
       "4  [vanilla extract, nutmeg, sugar, flour, flax e...   \n",
       "\n",
       "                                        instructions  calories  carbs  \\\n",
       "0  pierce air sweet potato with a fork and microw...     530.0  110.0   \n",
       "1  place lettuce into box. place sliced peppers, ...     489.0   79.0   \n",
       "2  add all of the ingredients except for the bana...     416.0   74.0   \n",
       "3  mix together baked beans and tikka masala sauc...    1096.0  168.0   \n",
       "4  whisk together flour, sugar, baking powder, nu...     447.0   41.0   \n",
       "\n",
       "   total_sugar  protein  fiber  \n",
       "0         26.0     19.0   26.0  \n",
       "1         28.0     21.0   25.0  \n",
       "2         25.0     15.0   24.0  \n",
       "3         49.0     43.0   23.0  \n",
       "4         12.0     13.0   19.0  "
      ]
     },
     "execution_count": 35,
     "metadata": {},
     "output_type": "execute_result"
    }
   ],
   "source": [
    "recipes_for_health_condition = pd.DataFrame(get_recipes_for_health_condition ('Heart Disease','Disease-Nutrient-Avoidance.csv'))\n",
    "recipes_for_health_condition"
   ]
  },
  {
   "cell_type": "markdown",
   "id": "d7ee10bf-b0aa-4250-803c-09259b916dbc",
   "metadata": {},
   "source": [
    "### IX. Future work"
   ]
  },
  {
   "cell_type": "markdown",
   "id": "cd8d0b06-3f49-447e-a3dc-98fa8280c5f1",
   "metadata": {},
   "source": [
    "######\n",
    "- Use metric-unit data to incorporate exact measurements of each ingredient\n",
    "- Use more advanced techniques to do entity resolution (for eg - blocking techniques, entity matching, clustering)\n",
    "- Usage of food_to_avoid data from valid sources like hospitals to give better recommendations to the user\n",
    "- Improve suggestions by expanding food nutrition profile\n",
    "- Use of data/knowledge graph by popular food logging applications"
   ]
  },
  {
   "cell_type": "code",
   "execution_count": null,
   "id": "89e5ff3a-0930-4c2b-ab32-5043aaf2e04c",
   "metadata": {},
   "outputs": [],
   "source": []
  }
 ],
 "metadata": {
  "kernelspec": {
   "display_name": "Python 3 (ipykernel)",
   "language": "python",
   "name": "python3"
  },
  "language_info": {
   "codemirror_mode": {
    "name": "ipython",
    "version": 3
   },
   "file_extension": ".py",
   "mimetype": "text/x-python",
   "name": "python",
   "nbconvert_exporter": "python",
   "pygments_lexer": "ipython3",
   "version": "3.10.8"
  }
 },
 "nbformat": 4,
 "nbformat_minor": 5
}
